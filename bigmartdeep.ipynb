{
 "cells": [
  {
   "cell_type": "code",
   "execution_count": 1,
   "id": "12351560",
   "metadata": {},
   "outputs": [],
   "source": [
    "import pandas as pd\n",
    "import numpy as np\n",
    "from scipy import stats\n",
    "import matplotlib.pyplot as plt\n",
    "from keras.models import Sequential\n",
    "from keras.layers import Activation, Dense\n",
    "from sklearn.model_selection import train_test_split\n",
    "from keras.wrappers.scikit_learn import KerasRegressor\n",
    "from sklearn.model_selection import cross_val_score\n",
    "from sklearn.model_selection import KFold"
   ]
  },
  {
   "cell_type": "code",
   "execution_count": 2,
   "id": "4e6b3b77",
   "metadata": {},
   "outputs": [],
   "source": [
    "df = pd.read_csv(\"https://raw.githubusercontent.com/akki8087/Big-Mart-Sales/master/Train.csv\")"
   ]
  },
  {
   "cell_type": "code",
   "execution_count": 3,
   "id": "2ed27500",
   "metadata": {},
   "outputs": [],
   "source": [
    "df.Item_Weight.fillna(df.Item_Weight.mean(),inplace=True)"
   ]
  },
  {
   "cell_type": "code",
   "execution_count": 4,
   "id": "b96ff7b1",
   "metadata": {},
   "outputs": [],
   "source": [
    "df.Outlet_Size = df.Outlet_Size.fillna('Others')"
   ]
  },
  {
   "cell_type": "code",
   "execution_count": 5,
   "id": "bf791fcc",
   "metadata": {},
   "outputs": [],
   "source": [
    "df.Item_Fat_Content = df.Item_Fat_Content.replace(['LF','reg','low fat'],['Low Fat','Regular','Low Fat'])"
   ]
  },
  {
   "cell_type": "code",
   "execution_count": 6,
   "id": "d3f886f3",
   "metadata": {},
   "outputs": [],
   "source": [
    "df.Item_Visibility = df.Item_Visibility.replace(0,df.Item_Visibility.median())"
   ]
  },
  {
   "cell_type": "code",
   "execution_count": 7,
   "id": "b4be3fb9",
   "metadata": {},
   "outputs": [],
   "source": [
    "df[\"Outlet_Establishment_Year\"]= df[\"Outlet_Establishment_Year\"].astype(str)"
   ]
  },
  {
   "cell_type": "code",
   "execution_count": 8,
   "id": "86fca76b",
   "metadata": {},
   "outputs": [
    {
     "data": {
      "text/plain": [
       "0       Supermarket Type1\n",
       "1       Supermarket Type2\n",
       "2       Supermarket Type1\n",
       "3           Grocery Store\n",
       "4       Supermarket Type1\n",
       "              ...        \n",
       "8518    Supermarket Type1\n",
       "8519    Supermarket Type1\n",
       "8520    Supermarket Type1\n",
       "8521    Supermarket Type2\n",
       "8522    Supermarket Type1\n",
       "Name: Outlet_Type, Length: 8523, dtype: object"
      ]
     },
     "execution_count": 8,
     "metadata": {},
     "output_type": "execute_result"
    }
   ],
   "source": [
    "df['Outlet_Type']"
   ]
  },
  {
   "cell_type": "code",
   "execution_count": 9,
   "id": "b2e267ea",
   "metadata": {},
   "outputs": [],
   "source": [
    "from sklearn import preprocessing\n",
    "le = preprocessing.LabelEncoder()\n",
    "df['Item_Fat_Content'] = le.fit_transform(df['Item_Fat_Content'])\n",
    "df['Item_Type'] = le.fit_transform(df['Item_Type'])\n",
    "df['Outlet_Establishment_Year'] = le.fit_transform(df['Outlet_Establishment_Year'])                                           \n",
    "df['Outlet_Size'] = le.fit_transform(df['Outlet_Size'])\n",
    "df['Outlet_Location_Type'] = le.fit_transform(df['Outlet_Location_Type'])\n",
    "df['Outlet_Type'] = le.fit_transform(df['Outlet_Type'])                                         "
   ]
  },
  {
   "cell_type": "code",
   "execution_count": 10,
   "id": "c028c29a",
   "metadata": {},
   "outputs": [],
   "source": [
    "x = df.drop(['Item_Outlet_Sales','Item_Identifier','Outlet_Identifier'],axis=1)\n",
    "y = df['Item_Outlet_Sales']\n",
    "train_x,test_x,train_y,test_y = train_test_split(x,y,test_size=0.2,random_state=108,shuffle=False)"
   ]
  },
  {
   "cell_type": "code",
   "execution_count": null,
   "id": "06d9318d",
   "metadata": {},
   "outputs": [],
   "source": []
  },
  {
   "cell_type": "code",
   "execution_count": 83,
   "id": "5d97a288",
   "metadata": {},
   "outputs": [],
   "source": [
    "#model.compile(optimizer='adam', loss='mean_squared_error', metrics=['mean_squared_error'])"
   ]
  },
  {
   "cell_type": "code",
   "execution_count": 88,
   "id": "fd7a3511",
   "metadata": {},
   "outputs": [],
   "source": [
    "#model.fit(train_x,train_y,epochs=50)"
   ]
  },
  {
   "cell_type": "code",
   "execution_count": 11,
   "id": "41d5937f",
   "metadata": {},
   "outputs": [],
   "source": [
    "#estimator = KerasRegressor(build_fn=baseline_model, epochs=100, batch_size=5, verbose=0)"
   ]
  },
  {
   "cell_type": "code",
   "execution_count": 101,
   "id": "c732456e",
   "metadata": {},
   "outputs": [],
   "source": [
    "model = Sequential()\n",
    "model.add(Dense(15, input_dim=9, activation='relu'))\n",
    "model.add(Dense(6, activation='relu'))\n",
    "model.add(Dense(3, activation='relu'))\n",
    "model.add(Dense(1, activation='linear'))\n",
    "model.compile(loss='mse', optimizer='adam', metrics=['mse', 'accuracy'])"
   ]
  },
  {
   "cell_type": "code",
   "execution_count": 96,
   "id": "8a2fc51d",
   "metadata": {},
   "outputs": [],
   "source": [
    "#model.compile(loss='mse', optimizer='adam', metrics=['mse', 'mae'])"
   ]
  },
  {
   "cell_type": "code",
   "execution_count": 106,
   "id": "27915e32",
   "metadata": {},
   "outputs": [
    {
     "data": {
      "text/plain": [
       "<keras.callbacks.History at 0x26ae3c755e0>"
      ]
     },
     "execution_count": 106,
     "metadata": {},
     "output_type": "execute_result"
    }
   ],
   "source": [
    "#estimator.fit(train_x, train_y,epochs=20)"
   ]
  },
  {
   "cell_type": "code",
   "execution_count": 104,
   "id": "3a8110f2",
   "metadata": {
    "scrolled": false
   },
   "outputs": [
    {
     "name": "stdout",
     "output_type": "stream",
     "text": [
      "Epoch 1/50\n",
      "214/214 [==============================] - 1s 2ms/step - loss: 1413956.8750 - mse: 1413956.8750 - accuracy: 0.0000e+00\n",
      "Epoch 2/50\n",
      "214/214 [==============================] - 1s 3ms/step - loss: 1413673.6250 - mse: 1413673.6250 - accuracy: 0.0000e+00\n",
      "Epoch 3/50\n",
      "214/214 [==============================] - 1s 4ms/step - loss: 1412538.6250 - mse: 1412538.6250 - accuracy: 0.0000e+00\n",
      "Epoch 4/50\n",
      "214/214 [==============================] - 1s 3ms/step - loss: 1413415.3750 - mse: 1413415.3750 - accuracy: 0.0000e+00\n",
      "Epoch 5/50\n",
      "214/214 [==============================] - 1s 2ms/step - loss: 1408138.8750 - mse: 1408138.8750 - accuracy: 0.0000e+00\n",
      "Epoch 6/50\n",
      "214/214 [==============================] - 1s 3ms/step - loss: 1405976.7500 - mse: 1405976.7500 - accuracy: 0.0000e+00\n",
      "Epoch 7/50\n",
      "214/214 [==============================] - 1s 3ms/step - loss: 1408712.5000 - mse: 1408712.5000 - accuracy: 0.0000e+00\n",
      "Epoch 8/50\n",
      "214/214 [==============================] - 1s 2ms/step - loss: 1406115.1250 - mse: 1406115.1250 - accuracy: 0.0000e+00\n",
      "Epoch 9/50\n",
      "214/214 [==============================] - 1s 3ms/step - loss: 1404353.1250 - mse: 1404353.1250 - accuracy: 0.0000e+00\n",
      "Epoch 10/50\n",
      "214/214 [==============================] - 1s 3ms/step - loss: 1405796.8750 - mse: 1405796.8750 - accuracy: 0.0000e+00\n",
      "Epoch 11/50\n",
      "214/214 [==============================] - 1s 2ms/step - loss: 1402430.5000 - mse: 1402430.5000 - accuracy: 0.0000e+00\n",
      "Epoch 12/50\n",
      "214/214 [==============================] - 1s 2ms/step - loss: 1402450.6250 - mse: 1402450.6250 - accuracy: 0.0000e+00\n",
      "Epoch 13/50\n",
      "214/214 [==============================] - 1s 2ms/step - loss: 1402243.3750 - mse: 1402243.3750 - accuracy: 0.0000e+00\n",
      "Epoch 14/50\n",
      "214/214 [==============================] - 1s 2ms/step - loss: 1399504.7500 - mse: 1399504.7500 - accuracy: 0.0000e+00\n",
      "Epoch 15/50\n",
      "214/214 [==============================] - 1s 2ms/step - loss: 1397457.1250 - mse: 1397457.1250 - accuracy: 0.0000e+00\n",
      "Epoch 16/50\n",
      "214/214 [==============================] - 1s 2ms/step - loss: 1394907.8750 - mse: 1394907.8750 - accuracy: 0.0000e+00\n",
      "Epoch 17/50\n",
      "214/214 [==============================] - 1s 2ms/step - loss: 1395717.5000 - mse: 1395717.5000 - accuracy: 0.0000e+00\n",
      "Epoch 18/50\n",
      "214/214 [==============================] - 1s 2ms/step - loss: 1396006.8750 - mse: 1396006.8750 - accuracy: 0.0000e+00\n",
      "Epoch 19/50\n",
      "214/214 [==============================] - 1s 2ms/step - loss: 1395133.0000 - mse: 1395133.0000 - accuracy: 0.0000e+00\n",
      "Epoch 20/50\n",
      "214/214 [==============================] - 1s 3ms/step - loss: 1394993.3750 - mse: 1394993.3750 - accuracy: 0.0000e+00\n",
      "Epoch 21/50\n",
      "214/214 [==============================] - 1s 3ms/step - loss: 1395752.7500 - mse: 1395752.7500 - accuracy: 0.0000e+00\n",
      "Epoch 22/50\n",
      "214/214 [==============================] - 1s 2ms/step - loss: 1390651.3750 - mse: 1390651.3750 - accuracy: 0.0000e+00\n",
      "Epoch 23/50\n",
      "214/214 [==============================] - 1s 3ms/step - loss: 1389143.3750 - mse: 1389143.3750 - accuracy: 0.0000e+00\n",
      "Epoch 24/50\n",
      "214/214 [==============================] - 1s 3ms/step - loss: 1391154.7500 - mse: 1391154.7500 - accuracy: 0.0000e+00\n",
      "Epoch 25/50\n",
      "214/214 [==============================] - 1s 3ms/step - loss: 1390865.5000 - mse: 1390865.5000 - accuracy: 0.0000e+00\n",
      "Epoch 26/50\n",
      "214/214 [==============================] - 1s 3ms/step - loss: 1386495.8750 - mse: 1386495.8750 - accuracy: 0.0000e+00\n",
      "Epoch 27/50\n",
      "214/214 [==============================] - 1s 3ms/step - loss: 1388359.6250 - mse: 1388359.6250 - accuracy: 0.0000e+00\n",
      "Epoch 28/50\n",
      "214/214 [==============================] - 1s 3ms/step - loss: 1386230.1250 - mse: 1386230.1250 - accuracy: 0.0000e+00\n",
      "Epoch 29/50\n",
      "214/214 [==============================] - 1s 3ms/step - loss: 1386398.5000 - mse: 1386398.5000 - accuracy: 0.0000e+00\n",
      "Epoch 30/50\n",
      "214/214 [==============================] - 1s 3ms/step - loss: 1383132.8750 - mse: 1383132.8750 - accuracy: 0.0000e+00\n",
      "Epoch 31/50\n",
      "214/214 [==============================] - 1s 3ms/step - loss: 1383190.8750 - mse: 1383190.8750 - accuracy: 0.0000e+00\n",
      "Epoch 32/50\n",
      "214/214 [==============================] - 1s 3ms/step - loss: 1384459.8750 - mse: 1384459.8750 - accuracy: 0.0000e+00\n",
      "Epoch 33/50\n",
      "214/214 [==============================] - 1s 3ms/step - loss: 1382923.0000 - mse: 1382923.0000 - accuracy: 0.0000e+00\n",
      "Epoch 34/50\n",
      "214/214 [==============================] - 1s 3ms/step - loss: 1382659.8750 - mse: 1382659.8750 - accuracy: 0.0000e+00\n",
      "Epoch 35/50\n",
      "214/214 [==============================] - 1s 3ms/step - loss: 1380843.7500 - mse: 1380843.7500 - accuracy: 0.0000e+00\n",
      "Epoch 36/50\n",
      "214/214 [==============================] - 1s 2ms/step - loss: 1379365.5000 - mse: 1379365.5000 - accuracy: 0.0000e+00\n",
      "Epoch 37/50\n",
      "214/214 [==============================] - 1s 2ms/step - loss: 1379182.1250 - mse: 1379182.1250 - accuracy: 0.0000e+00\n",
      "Epoch 38/50\n",
      "214/214 [==============================] - 1s 3ms/step - loss: 1378107.3750 - mse: 1378107.3750 - accuracy: 0.0000e+00\n",
      "Epoch 39/50\n",
      "214/214 [==============================] - 1s 3ms/step - loss: 1378714.6250 - mse: 1378714.6250 - accuracy: 0.0000e+00\n",
      "Epoch 40/50\n",
      "214/214 [==============================] - 1s 3ms/step - loss: 1377667.7500 - mse: 1377667.7500 - accuracy: 0.0000e+00\n",
      "Epoch 41/50\n",
      "214/214 [==============================] - 1s 2ms/step - loss: 1380896.1250 - mse: 1380896.1250 - accuracy: 0.0000e+00\n",
      "Epoch 42/50\n",
      "214/214 [==============================] - 1s 2ms/step - loss: 1377067.0000 - mse: 1377067.0000 - accuracy: 0.0000e+00\n",
      "Epoch 43/50\n",
      "214/214 [==============================] - 1s 2ms/step - loss: 1375136.3750 - mse: 1375136.3750 - accuracy: 0.0000e+00\n",
      "Epoch 44/50\n",
      "214/214 [==============================] - 1s 3ms/step - loss: 1375823.1250 - mse: 1375823.1250 - accuracy: 0.0000e+00\n",
      "Epoch 45/50\n",
      "214/214 [==============================] - 1s 3ms/step - loss: 1374480.8750 - mse: 1374480.8750 - accuracy: 0.0000e+00\n",
      "Epoch 46/50\n",
      "214/214 [==============================] - 1s 2ms/step - loss: 1373128.8750 - mse: 1373128.8750 - accuracy: 0.0000e+00\n",
      "Epoch 47/50\n",
      "214/214 [==============================] - 1s 2ms/step - loss: 1370152.5000 - mse: 1370152.5000 - accuracy: 0.0000e+00\n",
      "Epoch 48/50\n",
      "214/214 [==============================] - 1s 2ms/step - loss: 1371997.0000 - mse: 1371997.0000 - accuracy: 0.0000e+00\n",
      "Epoch 49/50\n",
      "214/214 [==============================] - 1s 2ms/step - loss: 1369347.6250 - mse: 1369347.6250 - accuracy: 0.0000e+00\n",
      "Epoch 50/50\n",
      "214/214 [==============================] - 1s 3ms/step - loss: 1371006.8750 - mse: 1371006.8750 - accuracy: 0.0000e+00\n"
     ]
    }
   ],
   "source": [
    "history = model.fit(train_x, train_y, epochs=50)"
   ]
  },
  {
   "cell_type": "code",
   "execution_count": null,
   "id": "51ed80ba",
   "metadata": {},
   "outputs": [],
   "source": []
  }
 ],
 "metadata": {
  "kernelspec": {
   "display_name": "Python 3 (ipykernel)",
   "language": "python",
   "name": "python3"
  },
  "language_info": {
   "codemirror_mode": {
    "name": "ipython",
    "version": 3
   },
   "file_extension": ".py",
   "mimetype": "text/x-python",
   "name": "python",
   "nbconvert_exporter": "python",
   "pygments_lexer": "ipython3",
   "version": "3.9.7"
  }
 },
 "nbformat": 4,
 "nbformat_minor": 5
}
