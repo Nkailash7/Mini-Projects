{
 "cells": [
  {
   "cell_type": "code",
   "execution_count": 1,
   "id": "efdaf073",
   "metadata": {},
   "outputs": [],
   "source": [
    "\n",
    "import pandas as pd\n",
    "import numpy as np\n",
    "from scipy import stats \n",
    "import matplotlib.pyplot as plt\n",
    "from scipy.stats import pearsonr\n",
    "import statsmodels.api as sm \n",
    "import seaborn as sns\n",
    "from sklearn import datasets\n",
    "from sklearn.model_selection import train_test_split\n",
    "from sklearn.linear_model import LinearRegression\n",
    "from sklearn.preprocessing import MinMaxScaler\n",
    "from sklearn import datasets,linear_model,metrics\n",
    "from sklearn.metrics import mean_squared_error,confusion_matrix,accuracy_score,classification_report\n",
    "from sklearn.linear_model import LogisticRegression\n",
    "from sklearn.tree import DecisionTreeClassifier,DecisionTreeRegressor \n",
    "from sklearn.datasets import make_classification\n",
    "from sklearn.datasets import make_hastie_10_2\n",
    "from sklearn.ensemble import GradientBoostingClassifier,AdaBoostClassifier,RandomForestClassifier\n",
    "from sklearn.datasets import make_regression\n",
    "from sklearn.ensemble import GradientBoostingRegressor,AdaBoostRegressor,RandomForestRegressor\n",
    "from sklearn.decomposition import PCA\n"
   ]
  },
  {
   "cell_type": "code",
   "execution_count": 2,
   "id": "cfca0070",
   "metadata": {},
   "outputs": [],
   "source": [
    "data=pd.read_csv(\"blktrain.csv\")"
   ]
  },
  {
   "cell_type": "code",
   "execution_count": 3,
   "id": "ee4a3882",
   "metadata": {},
   "outputs": [
    {
     "data": {
      "text/html": [
       "<div>\n",
       "<style scoped>\n",
       "    .dataframe tbody tr th:only-of-type {\n",
       "        vertical-align: middle;\n",
       "    }\n",
       "\n",
       "    .dataframe tbody tr th {\n",
       "        vertical-align: top;\n",
       "    }\n",
       "\n",
       "    .dataframe thead th {\n",
       "        text-align: right;\n",
       "    }\n",
       "</style>\n",
       "<table border=\"1\" class=\"dataframe\">\n",
       "  <thead>\n",
       "    <tr style=\"text-align: right;\">\n",
       "      <th></th>\n",
       "      <th>User_ID</th>\n",
       "      <th>Product_ID</th>\n",
       "      <th>Gender</th>\n",
       "      <th>Age</th>\n",
       "      <th>Occupation</th>\n",
       "      <th>City_Category</th>\n",
       "      <th>Stay_In_Current_City_Years</th>\n",
       "      <th>Marital_Status</th>\n",
       "      <th>Product_Category_1</th>\n",
       "      <th>Product_Category_2</th>\n",
       "      <th>Product_Category_3</th>\n",
       "      <th>Purchase</th>\n",
       "    </tr>\n",
       "  </thead>\n",
       "  <tbody>\n",
       "    <tr>\n",
       "      <th>0</th>\n",
       "      <td>1000001</td>\n",
       "      <td>P00069042</td>\n",
       "      <td>F</td>\n",
       "      <td>0-17</td>\n",
       "      <td>10</td>\n",
       "      <td>A</td>\n",
       "      <td>2</td>\n",
       "      <td>0</td>\n",
       "      <td>3</td>\n",
       "      <td>NaN</td>\n",
       "      <td>NaN</td>\n",
       "      <td>8370</td>\n",
       "    </tr>\n",
       "    <tr>\n",
       "      <th>1</th>\n",
       "      <td>1000001</td>\n",
       "      <td>P00248942</td>\n",
       "      <td>F</td>\n",
       "      <td>0-17</td>\n",
       "      <td>10</td>\n",
       "      <td>A</td>\n",
       "      <td>2</td>\n",
       "      <td>0</td>\n",
       "      <td>1</td>\n",
       "      <td>6.0</td>\n",
       "      <td>14.0</td>\n",
       "      <td>15200</td>\n",
       "    </tr>\n",
       "    <tr>\n",
       "      <th>2</th>\n",
       "      <td>1000001</td>\n",
       "      <td>P00087842</td>\n",
       "      <td>F</td>\n",
       "      <td>0-17</td>\n",
       "      <td>10</td>\n",
       "      <td>A</td>\n",
       "      <td>2</td>\n",
       "      <td>0</td>\n",
       "      <td>12</td>\n",
       "      <td>NaN</td>\n",
       "      <td>NaN</td>\n",
       "      <td>1422</td>\n",
       "    </tr>\n",
       "    <tr>\n",
       "      <th>3</th>\n",
       "      <td>1000001</td>\n",
       "      <td>P00085442</td>\n",
       "      <td>F</td>\n",
       "      <td>0-17</td>\n",
       "      <td>10</td>\n",
       "      <td>A</td>\n",
       "      <td>2</td>\n",
       "      <td>0</td>\n",
       "      <td>12</td>\n",
       "      <td>14.0</td>\n",
       "      <td>NaN</td>\n",
       "      <td>1057</td>\n",
       "    </tr>\n",
       "    <tr>\n",
       "      <th>4</th>\n",
       "      <td>1000002</td>\n",
       "      <td>P00285442</td>\n",
       "      <td>M</td>\n",
       "      <td>55+</td>\n",
       "      <td>16</td>\n",
       "      <td>C</td>\n",
       "      <td>4+</td>\n",
       "      <td>0</td>\n",
       "      <td>8</td>\n",
       "      <td>NaN</td>\n",
       "      <td>NaN</td>\n",
       "      <td>7969</td>\n",
       "    </tr>\n",
       "  </tbody>\n",
       "</table>\n",
       "</div>"
      ],
      "text/plain": [
       "   User_ID Product_ID Gender   Age  Occupation City_Category  \\\n",
       "0  1000001  P00069042      F  0-17          10             A   \n",
       "1  1000001  P00248942      F  0-17          10             A   \n",
       "2  1000001  P00087842      F  0-17          10             A   \n",
       "3  1000001  P00085442      F  0-17          10             A   \n",
       "4  1000002  P00285442      M   55+          16             C   \n",
       "\n",
       "  Stay_In_Current_City_Years  Marital_Status  Product_Category_1  \\\n",
       "0                          2               0                   3   \n",
       "1                          2               0                   1   \n",
       "2                          2               0                  12   \n",
       "3                          2               0                  12   \n",
       "4                         4+               0                   8   \n",
       "\n",
       "   Product_Category_2  Product_Category_3  Purchase  \n",
       "0                 NaN                 NaN      8370  \n",
       "1                 6.0                14.0     15200  \n",
       "2                 NaN                 NaN      1422  \n",
       "3                14.0                 NaN      1057  \n",
       "4                 NaN                 NaN      7969  "
      ]
     },
     "execution_count": 3,
     "metadata": {},
     "output_type": "execute_result"
    }
   ],
   "source": [
    "data.head()"
   ]
  },
  {
   "cell_type": "code",
   "execution_count": 4,
   "id": "2855bb90",
   "metadata": {},
   "outputs": [
    {
     "name": "stdout",
     "output_type": "stream",
     "text": [
      "<class 'pandas.core.frame.DataFrame'>\n",
      "RangeIndex: 550068 entries, 0 to 550067\n",
      "Data columns (total 12 columns):\n",
      " #   Column                      Non-Null Count   Dtype  \n",
      "---  ------                      --------------   -----  \n",
      " 0   User_ID                     550068 non-null  int64  \n",
      " 1   Product_ID                  550068 non-null  object \n",
      " 2   Gender                      550068 non-null  object \n",
      " 3   Age                         550068 non-null  object \n",
      " 4   Occupation                  550068 non-null  int64  \n",
      " 5   City_Category               550068 non-null  object \n",
      " 6   Stay_In_Current_City_Years  550068 non-null  object \n",
      " 7   Marital_Status              550068 non-null  int64  \n",
      " 8   Product_Category_1          550068 non-null  int64  \n",
      " 9   Product_Category_2          376430 non-null  float64\n",
      " 10  Product_Category_3          166821 non-null  float64\n",
      " 11  Purchase                    550068 non-null  int64  \n",
      "dtypes: float64(2), int64(5), object(5)\n",
      "memory usage: 50.4+ MB\n"
     ]
    }
   ],
   "source": [
    "data.info()"
   ]
  },
  {
   "cell_type": "code",
   "execution_count": 5,
   "id": "9feb77f6",
   "metadata": {},
   "outputs": [
    {
     "data": {
      "text/html": [
       "<div>\n",
       "<style scoped>\n",
       "    .dataframe tbody tr th:only-of-type {\n",
       "        vertical-align: middle;\n",
       "    }\n",
       "\n",
       "    .dataframe tbody tr th {\n",
       "        vertical-align: top;\n",
       "    }\n",
       "\n",
       "    .dataframe thead th {\n",
       "        text-align: right;\n",
       "    }\n",
       "</style>\n",
       "<table border=\"1\" class=\"dataframe\">\n",
       "  <thead>\n",
       "    <tr style=\"text-align: right;\">\n",
       "      <th></th>\n",
       "      <th>User_ID</th>\n",
       "      <th>Occupation</th>\n",
       "      <th>Marital_Status</th>\n",
       "      <th>Product_Category_1</th>\n",
       "      <th>Product_Category_2</th>\n",
       "      <th>Product_Category_3</th>\n",
       "      <th>Purchase</th>\n",
       "    </tr>\n",
       "  </thead>\n",
       "  <tbody>\n",
       "    <tr>\n",
       "      <th>count</th>\n",
       "      <td>5.500680e+05</td>\n",
       "      <td>550068.000000</td>\n",
       "      <td>550068.000000</td>\n",
       "      <td>550068.000000</td>\n",
       "      <td>376430.000000</td>\n",
       "      <td>166821.000000</td>\n",
       "      <td>550068.000000</td>\n",
       "    </tr>\n",
       "    <tr>\n",
       "      <th>mean</th>\n",
       "      <td>1.003029e+06</td>\n",
       "      <td>8.076707</td>\n",
       "      <td>0.409653</td>\n",
       "      <td>5.404270</td>\n",
       "      <td>9.842329</td>\n",
       "      <td>12.668243</td>\n",
       "      <td>9263.968713</td>\n",
       "    </tr>\n",
       "    <tr>\n",
       "      <th>std</th>\n",
       "      <td>1.727592e+03</td>\n",
       "      <td>6.522660</td>\n",
       "      <td>0.491770</td>\n",
       "      <td>3.936211</td>\n",
       "      <td>5.086590</td>\n",
       "      <td>4.125338</td>\n",
       "      <td>5023.065394</td>\n",
       "    </tr>\n",
       "    <tr>\n",
       "      <th>min</th>\n",
       "      <td>1.000001e+06</td>\n",
       "      <td>0.000000</td>\n",
       "      <td>0.000000</td>\n",
       "      <td>1.000000</td>\n",
       "      <td>2.000000</td>\n",
       "      <td>3.000000</td>\n",
       "      <td>12.000000</td>\n",
       "    </tr>\n",
       "    <tr>\n",
       "      <th>25%</th>\n",
       "      <td>1.001516e+06</td>\n",
       "      <td>2.000000</td>\n",
       "      <td>0.000000</td>\n",
       "      <td>1.000000</td>\n",
       "      <td>5.000000</td>\n",
       "      <td>9.000000</td>\n",
       "      <td>5823.000000</td>\n",
       "    </tr>\n",
       "    <tr>\n",
       "      <th>50%</th>\n",
       "      <td>1.003077e+06</td>\n",
       "      <td>7.000000</td>\n",
       "      <td>0.000000</td>\n",
       "      <td>5.000000</td>\n",
       "      <td>9.000000</td>\n",
       "      <td>14.000000</td>\n",
       "      <td>8047.000000</td>\n",
       "    </tr>\n",
       "    <tr>\n",
       "      <th>75%</th>\n",
       "      <td>1.004478e+06</td>\n",
       "      <td>14.000000</td>\n",
       "      <td>1.000000</td>\n",
       "      <td>8.000000</td>\n",
       "      <td>15.000000</td>\n",
       "      <td>16.000000</td>\n",
       "      <td>12054.000000</td>\n",
       "    </tr>\n",
       "    <tr>\n",
       "      <th>max</th>\n",
       "      <td>1.006040e+06</td>\n",
       "      <td>20.000000</td>\n",
       "      <td>1.000000</td>\n",
       "      <td>20.000000</td>\n",
       "      <td>18.000000</td>\n",
       "      <td>18.000000</td>\n",
       "      <td>23961.000000</td>\n",
       "    </tr>\n",
       "  </tbody>\n",
       "</table>\n",
       "</div>"
      ],
      "text/plain": [
       "            User_ID     Occupation  Marital_Status  Product_Category_1  \\\n",
       "count  5.500680e+05  550068.000000   550068.000000       550068.000000   \n",
       "mean   1.003029e+06       8.076707        0.409653            5.404270   \n",
       "std    1.727592e+03       6.522660        0.491770            3.936211   \n",
       "min    1.000001e+06       0.000000        0.000000            1.000000   \n",
       "25%    1.001516e+06       2.000000        0.000000            1.000000   \n",
       "50%    1.003077e+06       7.000000        0.000000            5.000000   \n",
       "75%    1.004478e+06      14.000000        1.000000            8.000000   \n",
       "max    1.006040e+06      20.000000        1.000000           20.000000   \n",
       "\n",
       "       Product_Category_2  Product_Category_3       Purchase  \n",
       "count       376430.000000       166821.000000  550068.000000  \n",
       "mean             9.842329           12.668243    9263.968713  \n",
       "std              5.086590            4.125338    5023.065394  \n",
       "min              2.000000            3.000000      12.000000  \n",
       "25%              5.000000            9.000000    5823.000000  \n",
       "50%              9.000000           14.000000    8047.000000  \n",
       "75%             15.000000           16.000000   12054.000000  \n",
       "max             18.000000           18.000000   23961.000000  "
      ]
     },
     "execution_count": 5,
     "metadata": {},
     "output_type": "execute_result"
    }
   ],
   "source": [
    "data.describe()"
   ]
  },
  {
   "cell_type": "code",
   "execution_count": 6,
   "id": "fe1903ae",
   "metadata": {},
   "outputs": [
    {
     "data": {
      "text/plain": [
       "User_ID                            0\n",
       "Product_ID                         0\n",
       "Gender                             0\n",
       "Age                                0\n",
       "Occupation                         0\n",
       "City_Category                      0\n",
       "Stay_In_Current_City_Years         0\n",
       "Marital_Status                     0\n",
       "Product_Category_1                 0\n",
       "Product_Category_2            173638\n",
       "Product_Category_3            383247\n",
       "Purchase                           0\n",
       "dtype: int64"
      ]
     },
     "execution_count": 6,
     "metadata": {},
     "output_type": "execute_result"
    }
   ],
   "source": [
    "data.isnull().sum()"
   ]
  },
  {
   "cell_type": "code",
   "execution_count": 7,
   "id": "1d795954",
   "metadata": {},
   "outputs": [
    {
     "data": {
      "text/plain": [
       "array([nan,  6., 14.,  2.,  8., 15., 16., 11.,  5.,  3.,  4., 12.,  9.,\n",
       "       10., 17., 13.,  7., 18.])"
      ]
     },
     "execution_count": 7,
     "metadata": {},
     "output_type": "execute_result"
    }
   ],
   "source": [
    "data.Product_Category_2.unique()"
   ]
  },
  {
   "cell_type": "code",
   "execution_count": 8,
   "id": "ae8deda1",
   "metadata": {},
   "outputs": [
    {
     "data": {
      "text/plain": [
       "array([nan, 14., 17.,  5.,  4., 16., 15.,  8.,  9., 13.,  6., 12.,  3.,\n",
       "       18., 11., 10.])"
      ]
     },
     "execution_count": 8,
     "metadata": {},
     "output_type": "execute_result"
    }
   ],
   "source": [
    "data.Product_Category_3.unique()"
   ]
  },
  {
   "cell_type": "code",
   "execution_count": 9,
   "id": "2b133445",
   "metadata": {},
   "outputs": [],
   "source": [
    "data.Product_Category_2.fillna(data.Product_Category_2.fillna(\"others\"),inplace=True)"
   ]
  },
  {
   "cell_type": "code",
   "execution_count": 10,
   "id": "3ca718c5",
   "metadata": {},
   "outputs": [],
   "source": [
    "#data.Product_Category_3.fillna(data.Product_Category_3.mode().max(),inplace=True)"
   ]
  },
  {
   "cell_type": "code",
   "execution_count": 11,
   "id": "98a70823",
   "metadata": {
    "scrolled": true
   },
   "outputs": [
    {
     "data": {
      "text/plain": [
       "User_ID                       0.000000\n",
       "Product_ID                    0.000000\n",
       "Gender                        0.000000\n",
       "Age                           0.000000\n",
       "Occupation                    0.000000\n",
       "City_Category                 0.000000\n",
       "Stay_In_Current_City_Years    0.000000\n",
       "Marital_Status                0.000000\n",
       "Product_Category_1            0.000000\n",
       "Product_Category_2            0.000000\n",
       "Product_Category_3            0.696727\n",
       "Purchase                      0.000000\n",
       "dtype: float64"
      ]
     },
     "execution_count": 11,
     "metadata": {},
     "output_type": "execute_result"
    }
   ],
   "source": [
    "data.isnull().mean()"
   ]
  },
  {
   "cell_type": "code",
   "execution_count": 12,
   "id": "c5db99d1",
   "metadata": {},
   "outputs": [],
   "source": [
    "x=data.iloc[0:,2:10]\n",
    "y=data.Purchase"
   ]
  },
  {
   "cell_type": "code",
   "execution_count": 13,
   "id": "f3ddbe28",
   "metadata": {},
   "outputs": [
    {
     "data": {
      "text/html": [
       "<div>\n",
       "<style scoped>\n",
       "    .dataframe tbody tr th:only-of-type {\n",
       "        vertical-align: middle;\n",
       "    }\n",
       "\n",
       "    .dataframe tbody tr th {\n",
       "        vertical-align: top;\n",
       "    }\n",
       "\n",
       "    .dataframe thead th {\n",
       "        text-align: right;\n",
       "    }\n",
       "</style>\n",
       "<table border=\"1\" class=\"dataframe\">\n",
       "  <thead>\n",
       "    <tr style=\"text-align: right;\">\n",
       "      <th></th>\n",
       "      <th>Gender</th>\n",
       "      <th>Age</th>\n",
       "      <th>Occupation</th>\n",
       "      <th>City_Category</th>\n",
       "      <th>Stay_In_Current_City_Years</th>\n",
       "      <th>Marital_Status</th>\n",
       "      <th>Product_Category_1</th>\n",
       "      <th>Product_Category_2</th>\n",
       "    </tr>\n",
       "  </thead>\n",
       "  <tbody>\n",
       "    <tr>\n",
       "      <th>0</th>\n",
       "      <td>F</td>\n",
       "      <td>0-17</td>\n",
       "      <td>10</td>\n",
       "      <td>A</td>\n",
       "      <td>2</td>\n",
       "      <td>0</td>\n",
       "      <td>3</td>\n",
       "      <td>others</td>\n",
       "    </tr>\n",
       "    <tr>\n",
       "      <th>1</th>\n",
       "      <td>F</td>\n",
       "      <td>0-17</td>\n",
       "      <td>10</td>\n",
       "      <td>A</td>\n",
       "      <td>2</td>\n",
       "      <td>0</td>\n",
       "      <td>1</td>\n",
       "      <td>6.0</td>\n",
       "    </tr>\n",
       "    <tr>\n",
       "      <th>2</th>\n",
       "      <td>F</td>\n",
       "      <td>0-17</td>\n",
       "      <td>10</td>\n",
       "      <td>A</td>\n",
       "      <td>2</td>\n",
       "      <td>0</td>\n",
       "      <td>12</td>\n",
       "      <td>others</td>\n",
       "    </tr>\n",
       "    <tr>\n",
       "      <th>3</th>\n",
       "      <td>F</td>\n",
       "      <td>0-17</td>\n",
       "      <td>10</td>\n",
       "      <td>A</td>\n",
       "      <td>2</td>\n",
       "      <td>0</td>\n",
       "      <td>12</td>\n",
       "      <td>14.0</td>\n",
       "    </tr>\n",
       "    <tr>\n",
       "      <th>4</th>\n",
       "      <td>M</td>\n",
       "      <td>55+</td>\n",
       "      <td>16</td>\n",
       "      <td>C</td>\n",
       "      <td>4+</td>\n",
       "      <td>0</td>\n",
       "      <td>8</td>\n",
       "      <td>others</td>\n",
       "    </tr>\n",
       "  </tbody>\n",
       "</table>\n",
       "</div>"
      ],
      "text/plain": [
       "  Gender   Age  Occupation City_Category Stay_In_Current_City_Years  \\\n",
       "0      F  0-17          10             A                          2   \n",
       "1      F  0-17          10             A                          2   \n",
       "2      F  0-17          10             A                          2   \n",
       "3      F  0-17          10             A                          2   \n",
       "4      M   55+          16             C                         4+   \n",
       "\n",
       "   Marital_Status  Product_Category_1 Product_Category_2  \n",
       "0               0                   3             others  \n",
       "1               0                   1                6.0  \n",
       "2               0                  12             others  \n",
       "3               0                  12               14.0  \n",
       "4               0                   8             others  "
      ]
     },
     "execution_count": 13,
     "metadata": {},
     "output_type": "execute_result"
    }
   ],
   "source": [
    "x.head()"
   ]
  },
  {
   "cell_type": "code",
   "execution_count": 14,
   "id": "37708d8f",
   "metadata": {},
   "outputs": [],
   "source": [
    "trainx,testx,trainy,testy = train_test_split(x,y,test_size = 0.2)\n",
    " \n",
    "# trainx, testx, trainy, testy = train_test_split(y,y,test_size=0.2)"
   ]
  },
  {
   "cell_type": "code",
   "execution_count": 15,
   "id": "00a00d87",
   "metadata": {},
   "outputs": [],
   "source": [
    "dummy=pd.get_dummies(x)\n",
    "dummy=pd.get_dummies(dummy,columns=[\"Occupation\",\"Product_Category_1\"])\n"
   ]
  },
  {
   "cell_type": "code",
   "execution_count": 16,
   "id": "0f2bdd96",
   "metadata": {},
   "outputs": [
    {
     "data": {
      "text/html": [
       "<div>\n",
       "<style scoped>\n",
       "    .dataframe tbody tr th:only-of-type {\n",
       "        vertical-align: middle;\n",
       "    }\n",
       "\n",
       "    .dataframe tbody tr th {\n",
       "        vertical-align: top;\n",
       "    }\n",
       "\n",
       "    .dataframe thead th {\n",
       "        text-align: right;\n",
       "    }\n",
       "</style>\n",
       "<table border=\"1\" class=\"dataframe\">\n",
       "  <thead>\n",
       "    <tr style=\"text-align: right;\">\n",
       "      <th></th>\n",
       "      <th>Marital_Status</th>\n",
       "      <th>Gender_F</th>\n",
       "      <th>Gender_M</th>\n",
       "      <th>Age_0-17</th>\n",
       "      <th>Age_18-25</th>\n",
       "      <th>Age_26-35</th>\n",
       "      <th>Age_36-45</th>\n",
       "      <th>Age_46-50</th>\n",
       "      <th>Age_51-55</th>\n",
       "      <th>Age_55+</th>\n",
       "      <th>...</th>\n",
       "      <th>Product_Category_1_11</th>\n",
       "      <th>Product_Category_1_12</th>\n",
       "      <th>Product_Category_1_13</th>\n",
       "      <th>Product_Category_1_14</th>\n",
       "      <th>Product_Category_1_15</th>\n",
       "      <th>Product_Category_1_16</th>\n",
       "      <th>Product_Category_1_17</th>\n",
       "      <th>Product_Category_1_18</th>\n",
       "      <th>Product_Category_1_19</th>\n",
       "      <th>Product_Category_1_20</th>\n",
       "    </tr>\n",
       "  </thead>\n",
       "  <tbody>\n",
       "    <tr>\n",
       "      <th>0</th>\n",
       "      <td>0</td>\n",
       "      <td>1</td>\n",
       "      <td>0</td>\n",
       "      <td>1</td>\n",
       "      <td>0</td>\n",
       "      <td>0</td>\n",
       "      <td>0</td>\n",
       "      <td>0</td>\n",
       "      <td>0</td>\n",
       "      <td>0</td>\n",
       "      <td>...</td>\n",
       "      <td>0</td>\n",
       "      <td>0</td>\n",
       "      <td>0</td>\n",
       "      <td>0</td>\n",
       "      <td>0</td>\n",
       "      <td>0</td>\n",
       "      <td>0</td>\n",
       "      <td>0</td>\n",
       "      <td>0</td>\n",
       "      <td>0</td>\n",
       "    </tr>\n",
       "    <tr>\n",
       "      <th>1</th>\n",
       "      <td>0</td>\n",
       "      <td>1</td>\n",
       "      <td>0</td>\n",
       "      <td>1</td>\n",
       "      <td>0</td>\n",
       "      <td>0</td>\n",
       "      <td>0</td>\n",
       "      <td>0</td>\n",
       "      <td>0</td>\n",
       "      <td>0</td>\n",
       "      <td>...</td>\n",
       "      <td>0</td>\n",
       "      <td>0</td>\n",
       "      <td>0</td>\n",
       "      <td>0</td>\n",
       "      <td>0</td>\n",
       "      <td>0</td>\n",
       "      <td>0</td>\n",
       "      <td>0</td>\n",
       "      <td>0</td>\n",
       "      <td>0</td>\n",
       "    </tr>\n",
       "    <tr>\n",
       "      <th>2</th>\n",
       "      <td>0</td>\n",
       "      <td>1</td>\n",
       "      <td>0</td>\n",
       "      <td>1</td>\n",
       "      <td>0</td>\n",
       "      <td>0</td>\n",
       "      <td>0</td>\n",
       "      <td>0</td>\n",
       "      <td>0</td>\n",
       "      <td>0</td>\n",
       "      <td>...</td>\n",
       "      <td>0</td>\n",
       "      <td>1</td>\n",
       "      <td>0</td>\n",
       "      <td>0</td>\n",
       "      <td>0</td>\n",
       "      <td>0</td>\n",
       "      <td>0</td>\n",
       "      <td>0</td>\n",
       "      <td>0</td>\n",
       "      <td>0</td>\n",
       "    </tr>\n",
       "    <tr>\n",
       "      <th>3</th>\n",
       "      <td>0</td>\n",
       "      <td>1</td>\n",
       "      <td>0</td>\n",
       "      <td>1</td>\n",
       "      <td>0</td>\n",
       "      <td>0</td>\n",
       "      <td>0</td>\n",
       "      <td>0</td>\n",
       "      <td>0</td>\n",
       "      <td>0</td>\n",
       "      <td>...</td>\n",
       "      <td>0</td>\n",
       "      <td>1</td>\n",
       "      <td>0</td>\n",
       "      <td>0</td>\n",
       "      <td>0</td>\n",
       "      <td>0</td>\n",
       "      <td>0</td>\n",
       "      <td>0</td>\n",
       "      <td>0</td>\n",
       "      <td>0</td>\n",
       "    </tr>\n",
       "    <tr>\n",
       "      <th>4</th>\n",
       "      <td>0</td>\n",
       "      <td>0</td>\n",
       "      <td>1</td>\n",
       "      <td>0</td>\n",
       "      <td>0</td>\n",
       "      <td>0</td>\n",
       "      <td>0</td>\n",
       "      <td>0</td>\n",
       "      <td>0</td>\n",
       "      <td>1</td>\n",
       "      <td>...</td>\n",
       "      <td>0</td>\n",
       "      <td>0</td>\n",
       "      <td>0</td>\n",
       "      <td>0</td>\n",
       "      <td>0</td>\n",
       "      <td>0</td>\n",
       "      <td>0</td>\n",
       "      <td>0</td>\n",
       "      <td>0</td>\n",
       "      <td>0</td>\n",
       "    </tr>\n",
       "    <tr>\n",
       "      <th>...</th>\n",
       "      <td>...</td>\n",
       "      <td>...</td>\n",
       "      <td>...</td>\n",
       "      <td>...</td>\n",
       "      <td>...</td>\n",
       "      <td>...</td>\n",
       "      <td>...</td>\n",
       "      <td>...</td>\n",
       "      <td>...</td>\n",
       "      <td>...</td>\n",
       "      <td>...</td>\n",
       "      <td>...</td>\n",
       "      <td>...</td>\n",
       "      <td>...</td>\n",
       "      <td>...</td>\n",
       "      <td>...</td>\n",
       "      <td>...</td>\n",
       "      <td>...</td>\n",
       "      <td>...</td>\n",
       "      <td>...</td>\n",
       "      <td>...</td>\n",
       "    </tr>\n",
       "    <tr>\n",
       "      <th>550063</th>\n",
       "      <td>1</td>\n",
       "      <td>0</td>\n",
       "      <td>1</td>\n",
       "      <td>0</td>\n",
       "      <td>0</td>\n",
       "      <td>0</td>\n",
       "      <td>0</td>\n",
       "      <td>0</td>\n",
       "      <td>1</td>\n",
       "      <td>0</td>\n",
       "      <td>...</td>\n",
       "      <td>0</td>\n",
       "      <td>0</td>\n",
       "      <td>0</td>\n",
       "      <td>0</td>\n",
       "      <td>0</td>\n",
       "      <td>0</td>\n",
       "      <td>0</td>\n",
       "      <td>0</td>\n",
       "      <td>0</td>\n",
       "      <td>1</td>\n",
       "    </tr>\n",
       "    <tr>\n",
       "      <th>550064</th>\n",
       "      <td>0</td>\n",
       "      <td>1</td>\n",
       "      <td>0</td>\n",
       "      <td>0</td>\n",
       "      <td>0</td>\n",
       "      <td>1</td>\n",
       "      <td>0</td>\n",
       "      <td>0</td>\n",
       "      <td>0</td>\n",
       "      <td>0</td>\n",
       "      <td>...</td>\n",
       "      <td>0</td>\n",
       "      <td>0</td>\n",
       "      <td>0</td>\n",
       "      <td>0</td>\n",
       "      <td>0</td>\n",
       "      <td>0</td>\n",
       "      <td>0</td>\n",
       "      <td>0</td>\n",
       "      <td>0</td>\n",
       "      <td>1</td>\n",
       "    </tr>\n",
       "    <tr>\n",
       "      <th>550065</th>\n",
       "      <td>1</td>\n",
       "      <td>1</td>\n",
       "      <td>0</td>\n",
       "      <td>0</td>\n",
       "      <td>0</td>\n",
       "      <td>1</td>\n",
       "      <td>0</td>\n",
       "      <td>0</td>\n",
       "      <td>0</td>\n",
       "      <td>0</td>\n",
       "      <td>...</td>\n",
       "      <td>0</td>\n",
       "      <td>0</td>\n",
       "      <td>0</td>\n",
       "      <td>0</td>\n",
       "      <td>0</td>\n",
       "      <td>0</td>\n",
       "      <td>0</td>\n",
       "      <td>0</td>\n",
       "      <td>0</td>\n",
       "      <td>1</td>\n",
       "    </tr>\n",
       "    <tr>\n",
       "      <th>550066</th>\n",
       "      <td>0</td>\n",
       "      <td>1</td>\n",
       "      <td>0</td>\n",
       "      <td>0</td>\n",
       "      <td>0</td>\n",
       "      <td>0</td>\n",
       "      <td>0</td>\n",
       "      <td>0</td>\n",
       "      <td>0</td>\n",
       "      <td>1</td>\n",
       "      <td>...</td>\n",
       "      <td>0</td>\n",
       "      <td>0</td>\n",
       "      <td>0</td>\n",
       "      <td>0</td>\n",
       "      <td>0</td>\n",
       "      <td>0</td>\n",
       "      <td>0</td>\n",
       "      <td>0</td>\n",
       "      <td>0</td>\n",
       "      <td>1</td>\n",
       "    </tr>\n",
       "    <tr>\n",
       "      <th>550067</th>\n",
       "      <td>1</td>\n",
       "      <td>1</td>\n",
       "      <td>0</td>\n",
       "      <td>0</td>\n",
       "      <td>0</td>\n",
       "      <td>0</td>\n",
       "      <td>0</td>\n",
       "      <td>1</td>\n",
       "      <td>0</td>\n",
       "      <td>0</td>\n",
       "      <td>...</td>\n",
       "      <td>0</td>\n",
       "      <td>0</td>\n",
       "      <td>0</td>\n",
       "      <td>0</td>\n",
       "      <td>0</td>\n",
       "      <td>0</td>\n",
       "      <td>0</td>\n",
       "      <td>0</td>\n",
       "      <td>0</td>\n",
       "      <td>1</td>\n",
       "    </tr>\n",
       "  </tbody>\n",
       "</table>\n",
       "<p>550068 rows × 77 columns</p>\n",
       "</div>"
      ],
      "text/plain": [
       "        Marital_Status  Gender_F  Gender_M  Age_0-17  Age_18-25  Age_26-35  \\\n",
       "0                    0         1         0         1          0          0   \n",
       "1                    0         1         0         1          0          0   \n",
       "2                    0         1         0         1          0          0   \n",
       "3                    0         1         0         1          0          0   \n",
       "4                    0         0         1         0          0          0   \n",
       "...                ...       ...       ...       ...        ...        ...   \n",
       "550063               1         0         1         0          0          0   \n",
       "550064               0         1         0         0          0          1   \n",
       "550065               1         1         0         0          0          1   \n",
       "550066               0         1         0         0          0          0   \n",
       "550067               1         1         0         0          0          0   \n",
       "\n",
       "        Age_36-45  Age_46-50  Age_51-55  Age_55+  ...  Product_Category_1_11  \\\n",
       "0               0          0          0        0  ...                      0   \n",
       "1               0          0          0        0  ...                      0   \n",
       "2               0          0          0        0  ...                      0   \n",
       "3               0          0          0        0  ...                      0   \n",
       "4               0          0          0        1  ...                      0   \n",
       "...           ...        ...        ...      ...  ...                    ...   \n",
       "550063          0          0          1        0  ...                      0   \n",
       "550064          0          0          0        0  ...                      0   \n",
       "550065          0          0          0        0  ...                      0   \n",
       "550066          0          0          0        1  ...                      0   \n",
       "550067          0          1          0        0  ...                      0   \n",
       "\n",
       "        Product_Category_1_12  Product_Category_1_13  Product_Category_1_14  \\\n",
       "0                           0                      0                      0   \n",
       "1                           0                      0                      0   \n",
       "2                           1                      0                      0   \n",
       "3                           1                      0                      0   \n",
       "4                           0                      0                      0   \n",
       "...                       ...                    ...                    ...   \n",
       "550063                      0                      0                      0   \n",
       "550064                      0                      0                      0   \n",
       "550065                      0                      0                      0   \n",
       "550066                      0                      0                      0   \n",
       "550067                      0                      0                      0   \n",
       "\n",
       "        Product_Category_1_15  Product_Category_1_16  Product_Category_1_17  \\\n",
       "0                           0                      0                      0   \n",
       "1                           0                      0                      0   \n",
       "2                           0                      0                      0   \n",
       "3                           0                      0                      0   \n",
       "4                           0                      0                      0   \n",
       "...                       ...                    ...                    ...   \n",
       "550063                      0                      0                      0   \n",
       "550064                      0                      0                      0   \n",
       "550065                      0                      0                      0   \n",
       "550066                      0                      0                      0   \n",
       "550067                      0                      0                      0   \n",
       "\n",
       "        Product_Category_1_18  Product_Category_1_19  Product_Category_1_20  \n",
       "0                           0                      0                      0  \n",
       "1                           0                      0                      0  \n",
       "2                           0                      0                      0  \n",
       "3                           0                      0                      0  \n",
       "4                           0                      0                      0  \n",
       "...                       ...                    ...                    ...  \n",
       "550063                      0                      0                      1  \n",
       "550064                      0                      0                      1  \n",
       "550065                      0                      0                      1  \n",
       "550066                      0                      0                      1  \n",
       "550067                      0                      0                      1  \n",
       "\n",
       "[550068 rows x 77 columns]"
      ]
     },
     "execution_count": 16,
     "metadata": {},
     "output_type": "execute_result"
    }
   ],
   "source": [
    "dummy"
   ]
  },
  {
   "cell_type": "code",
   "execution_count": 17,
   "id": "edd0de91",
   "metadata": {},
   "outputs": [],
   "source": [
    "scaler=MinMaxScaler()"
   ]
  },
  {
   "cell_type": "code",
   "execution_count": 18,
   "id": "0beb85b1",
   "metadata": {},
   "outputs": [],
   "source": [
    "model=scaler.fit(dummy)"
   ]
  },
  {
   "cell_type": "code",
   "execution_count": 19,
   "id": "9aee9cc6",
   "metadata": {},
   "outputs": [],
   "source": [
    "d=model.transform(dummy)"
   ]
  },
  {
   "cell_type": "code",
   "execution_count": 20,
   "id": "51dbd4a9",
   "metadata": {},
   "outputs": [],
   "source": [
    "df=pd.DataFrame(d)"
   ]
  },
  {
   "cell_type": "code",
   "execution_count": 21,
   "id": "f7a34164",
   "metadata": {},
   "outputs": [
    {
     "data": {
      "text/html": [
       "<div>\n",
       "<style scoped>\n",
       "    .dataframe tbody tr th:only-of-type {\n",
       "        vertical-align: middle;\n",
       "    }\n",
       "\n",
       "    .dataframe tbody tr th {\n",
       "        vertical-align: top;\n",
       "    }\n",
       "\n",
       "    .dataframe thead th {\n",
       "        text-align: right;\n",
       "    }\n",
       "</style>\n",
       "<table border=\"1\" class=\"dataframe\">\n",
       "  <thead>\n",
       "    <tr style=\"text-align: right;\">\n",
       "      <th></th>\n",
       "      <th>Marital_Status</th>\n",
       "      <th>Gender_F</th>\n",
       "      <th>Gender_M</th>\n",
       "      <th>Age_0-17</th>\n",
       "      <th>Age_18-25</th>\n",
       "      <th>Age_26-35</th>\n",
       "      <th>Age_36-45</th>\n",
       "      <th>Age_46-50</th>\n",
       "      <th>Age_51-55</th>\n",
       "      <th>Age_55+</th>\n",
       "      <th>...</th>\n",
       "      <th>Product_Category_1_11</th>\n",
       "      <th>Product_Category_1_12</th>\n",
       "      <th>Product_Category_1_13</th>\n",
       "      <th>Product_Category_1_14</th>\n",
       "      <th>Product_Category_1_15</th>\n",
       "      <th>Product_Category_1_16</th>\n",
       "      <th>Product_Category_1_17</th>\n",
       "      <th>Product_Category_1_18</th>\n",
       "      <th>Product_Category_1_19</th>\n",
       "      <th>Product_Category_1_20</th>\n",
       "    </tr>\n",
       "  </thead>\n",
       "  <tbody>\n",
       "    <tr>\n",
       "      <th>0</th>\n",
       "      <td>0</td>\n",
       "      <td>1</td>\n",
       "      <td>0</td>\n",
       "      <td>1</td>\n",
       "      <td>0</td>\n",
       "      <td>0</td>\n",
       "      <td>0</td>\n",
       "      <td>0</td>\n",
       "      <td>0</td>\n",
       "      <td>0</td>\n",
       "      <td>...</td>\n",
       "      <td>0</td>\n",
       "      <td>0</td>\n",
       "      <td>0</td>\n",
       "      <td>0</td>\n",
       "      <td>0</td>\n",
       "      <td>0</td>\n",
       "      <td>0</td>\n",
       "      <td>0</td>\n",
       "      <td>0</td>\n",
       "      <td>0</td>\n",
       "    </tr>\n",
       "    <tr>\n",
       "      <th>1</th>\n",
       "      <td>0</td>\n",
       "      <td>1</td>\n",
       "      <td>0</td>\n",
       "      <td>1</td>\n",
       "      <td>0</td>\n",
       "      <td>0</td>\n",
       "      <td>0</td>\n",
       "      <td>0</td>\n",
       "      <td>0</td>\n",
       "      <td>0</td>\n",
       "      <td>...</td>\n",
       "      <td>0</td>\n",
       "      <td>0</td>\n",
       "      <td>0</td>\n",
       "      <td>0</td>\n",
       "      <td>0</td>\n",
       "      <td>0</td>\n",
       "      <td>0</td>\n",
       "      <td>0</td>\n",
       "      <td>0</td>\n",
       "      <td>0</td>\n",
       "    </tr>\n",
       "    <tr>\n",
       "      <th>2</th>\n",
       "      <td>0</td>\n",
       "      <td>1</td>\n",
       "      <td>0</td>\n",
       "      <td>1</td>\n",
       "      <td>0</td>\n",
       "      <td>0</td>\n",
       "      <td>0</td>\n",
       "      <td>0</td>\n",
       "      <td>0</td>\n",
       "      <td>0</td>\n",
       "      <td>...</td>\n",
       "      <td>0</td>\n",
       "      <td>1</td>\n",
       "      <td>0</td>\n",
       "      <td>0</td>\n",
       "      <td>0</td>\n",
       "      <td>0</td>\n",
       "      <td>0</td>\n",
       "      <td>0</td>\n",
       "      <td>0</td>\n",
       "      <td>0</td>\n",
       "    </tr>\n",
       "    <tr>\n",
       "      <th>3</th>\n",
       "      <td>0</td>\n",
       "      <td>1</td>\n",
       "      <td>0</td>\n",
       "      <td>1</td>\n",
       "      <td>0</td>\n",
       "      <td>0</td>\n",
       "      <td>0</td>\n",
       "      <td>0</td>\n",
       "      <td>0</td>\n",
       "      <td>0</td>\n",
       "      <td>...</td>\n",
       "      <td>0</td>\n",
       "      <td>1</td>\n",
       "      <td>0</td>\n",
       "      <td>0</td>\n",
       "      <td>0</td>\n",
       "      <td>0</td>\n",
       "      <td>0</td>\n",
       "      <td>0</td>\n",
       "      <td>0</td>\n",
       "      <td>0</td>\n",
       "    </tr>\n",
       "    <tr>\n",
       "      <th>4</th>\n",
       "      <td>0</td>\n",
       "      <td>0</td>\n",
       "      <td>1</td>\n",
       "      <td>0</td>\n",
       "      <td>0</td>\n",
       "      <td>0</td>\n",
       "      <td>0</td>\n",
       "      <td>0</td>\n",
       "      <td>0</td>\n",
       "      <td>1</td>\n",
       "      <td>...</td>\n",
       "      <td>0</td>\n",
       "      <td>0</td>\n",
       "      <td>0</td>\n",
       "      <td>0</td>\n",
       "      <td>0</td>\n",
       "      <td>0</td>\n",
       "      <td>0</td>\n",
       "      <td>0</td>\n",
       "      <td>0</td>\n",
       "      <td>0</td>\n",
       "    </tr>\n",
       "  </tbody>\n",
       "</table>\n",
       "<p>5 rows × 77 columns</p>\n",
       "</div>"
      ],
      "text/plain": [
       "   Marital_Status  Gender_F  Gender_M  Age_0-17  Age_18-25  Age_26-35  \\\n",
       "0               0         1         0         1          0          0   \n",
       "1               0         1         0         1          0          0   \n",
       "2               0         1         0         1          0          0   \n",
       "3               0         1         0         1          0          0   \n",
       "4               0         0         1         0          0          0   \n",
       "\n",
       "   Age_36-45  Age_46-50  Age_51-55  Age_55+  ...  Product_Category_1_11  \\\n",
       "0          0          0          0        0  ...                      0   \n",
       "1          0          0          0        0  ...                      0   \n",
       "2          0          0          0        0  ...                      0   \n",
       "3          0          0          0        0  ...                      0   \n",
       "4          0          0          0        1  ...                      0   \n",
       "\n",
       "   Product_Category_1_12  Product_Category_1_13  Product_Category_1_14  \\\n",
       "0                      0                      0                      0   \n",
       "1                      0                      0                      0   \n",
       "2                      1                      0                      0   \n",
       "3                      1                      0                      0   \n",
       "4                      0                      0                      0   \n",
       "\n",
       "   Product_Category_1_15  Product_Category_1_16  Product_Category_1_17  \\\n",
       "0                      0                      0                      0   \n",
       "1                      0                      0                      0   \n",
       "2                      0                      0                      0   \n",
       "3                      0                      0                      0   \n",
       "4                      0                      0                      0   \n",
       "\n",
       "   Product_Category_1_18  Product_Category_1_19  Product_Category_1_20  \n",
       "0                      0                      0                      0  \n",
       "1                      0                      0                      0  \n",
       "2                      0                      0                      0  \n",
       "3                      0                      0                      0  \n",
       "4                      0                      0                      0  \n",
       "\n",
       "[5 rows x 77 columns]"
      ]
     },
     "execution_count": 21,
     "metadata": {},
     "output_type": "execute_result"
    }
   ],
   "source": [
    "dummy.head()"
   ]
  },
  {
   "cell_type": "code",
   "execution_count": null,
   "id": "a1812466",
   "metadata": {},
   "outputs": [],
   "source": []
  },
  {
   "cell_type": "code",
   "execution_count": 22,
   "id": "5e848c84",
   "metadata": {},
   "outputs": [],
   "source": [
    "trainx,testx=train_test_split(df,test_size=0.2)\n"
   ]
  },
  {
   "cell_type": "markdown",
   "id": "eb1f7df9",
   "metadata": {},
   "source": [
    "<h1>LINEAR REGRESSION<h1>"
   ]
  },
  {
   "cell_type": "code",
   "execution_count": 23,
   "id": "8646fb47",
   "metadata": {},
   "outputs": [],
   "source": [
    "reg = LinearRegression().fit(trainx,trainy)\n"
   ]
  },
  {
   "cell_type": "code",
   "execution_count": 24,
   "id": "a780c901",
   "metadata": {},
   "outputs": [
    {
     "data": {
      "text/plain": [
       "array([9299.625 , 9287.5625, 9264.75  , ..., 9213.5625, 9195.75  ,\n",
       "       9312.25  ])"
      ]
     },
     "execution_count": 24,
     "metadata": {},
     "output_type": "execute_result"
    }
   ],
   "source": [
    "reg.predict(testx)"
   ]
  },
  {
   "cell_type": "markdown",
   "id": "bdb7a785",
   "metadata": {},
   "source": []
  },
  {
   "cell_type": "code",
   "execution_count": 25,
   "id": "9d0ab8df",
   "metadata": {},
   "outputs": [],
   "source": [
    "reg1 = DecisionTreeRegressor(random_state=0).fit(trainx,trainy)"
   ]
  },
  {
   "cell_type": "code",
   "execution_count": 26,
   "id": "5a3b3769",
   "metadata": {},
   "outputs": [
    {
     "data": {
      "text/plain": [
       "array([ 9347.68115942, 10604.4       , 15679.        , ...,\n",
       "        3481.        , 12924.5       ,  7615.33333333])"
      ]
     },
     "execution_count": 26,
     "metadata": {},
     "output_type": "execute_result"
    }
   ],
   "source": [
    "reg1.predict(testx)"
   ]
  },
  {
   "cell_type": "markdown",
   "id": "958bcd6a",
   "metadata": {},
   "source": [
    "<h1>Random Forest Regressor<h1>"
   ]
  },
  {
   "cell_type": "code",
   "execution_count": 27,
   "id": "6e743b5d",
   "metadata": {},
   "outputs": [],
   "source": [
    "reg3 = RandomForestRegressor(max_depth=2, random_state=0).fit(trainx,trainy)"
   ]
  },
  {
   "cell_type": "code",
   "execution_count": 28,
   "id": "330e6b26",
   "metadata": {},
   "outputs": [
    {
     "data": {
      "text/plain": [
       "array([9260.15077272, 9263.25166694, 9253.79376299, ..., 9249.85256019,\n",
       "       9247.80270436, 9267.47962358])"
      ]
     },
     "execution_count": 28,
     "metadata": {},
     "output_type": "execute_result"
    }
   ],
   "source": [
    "reg3.predict(testx)"
   ]
  },
  {
   "cell_type": "markdown",
   "id": "62e85d6a",
   "metadata": {},
   "source": [
    "<h1>Ada Boost Regressor<h1>"
   ]
  },
  {
   "cell_type": "code",
   "execution_count": 30,
   "id": "093c5364",
   "metadata": {},
   "outputs": [],
   "source": [
    "regr = AdaBoostRegressor(random_state=0, n_estimators=100).fit(trainx,trainy)"
   ]
  },
  {
   "cell_type": "code",
   "execution_count": 31,
   "id": "a01899cb",
   "metadata": {},
   "outputs": [
    {
     "data": {
      "text/plain": [
       "array([10038.72732422, 10038.72732422,  9942.88329748, ...,\n",
       "        9942.88329748,  9942.88329748, 10038.72732422])"
      ]
     },
     "execution_count": 31,
     "metadata": {},
     "output_type": "execute_result"
    }
   ],
   "source": [
    "regr.predict(testx)"
   ]
  },
  {
   "cell_type": "markdown",
   "id": "a1e578c0",
   "metadata": {},
   "source": [
    "<h1>Gradient Boosting Regressor<h1>"
   ]
  },
  {
   "cell_type": "code",
   "execution_count": 32,
   "id": "4df0c8ce",
   "metadata": {},
   "outputs": [],
   "source": [
    "clf = GradientBoostingRegressor(random_state=0).fit(trainx,trainy)"
   ]
  },
  {
   "cell_type": "code",
   "execution_count": 33,
   "id": "c5584152",
   "metadata": {},
   "outputs": [
    {
     "data": {
      "text/plain": [
       "array([9264.21721643, 9304.21804083, 9157.7704561 , ..., 9219.74831869,\n",
       "       9196.01895863, 9281.94973582])"
      ]
     },
     "execution_count": 33,
     "metadata": {},
     "output_type": "execute_result"
    }
   ],
   "source": [
    "clf.predict(testx)"
   ]
  },
  {
   "cell_type": "code",
   "execution_count": 34,
   "id": "316fa3f4",
   "metadata": {},
   "outputs": [
    {
     "name": "stdout",
     "output_type": "stream",
     "text": [
      "LinearRegression          =  -0.0003504160592513461\n",
      "Decision Tree Regressor   =  -0.22550115434750184\n",
      "RandomForestRegressor     =  -5.395461613422192e-05\n",
      "AdaBoostRegressor         =  -0.023598372254779454\n",
      "GradientBoostingRegressor =  -0.0003025047602698283\n"
     ]
    }
   ],
   "source": [
    "print(\"LinearRegression          = \",reg.score(testx,testy))\n",
    "print(\"Decision Tree Regressor   = \",reg1.score(testx,testy))\n",
    "print(\"RandomForestRegressor     = \",reg3.score(testx,testy))\n",
    "print(\"AdaBoostRegressor         = \",regr.score(testx,testy))\n",
    "print(\"GradientBoostingRegressor = \",clf.score(testx,testy))"
   ]
  },
  {
   "cell_type": "markdown",
   "id": "8dffbb58",
   "metadata": {},
   "source": [
    "<h1>dimension reduvtion<h1>"
   ]
  },
  {
   "cell_type": "markdown",
   "id": "ea25134a",
   "metadata": {},
   "source": [
    "<h1>PCA<h1>"
   ]
  },
  {
   "cell_type": "code",
   "execution_count": 35,
   "id": "b79018d4",
   "metadata": {},
   "outputs": [],
   "source": [
    "pca = PCA()"
   ]
  },
  {
   "cell_type": "code",
   "execution_count": 36,
   "id": "fcfc05b4",
   "metadata": {},
   "outputs": [
    {
     "data": {
      "text/plain": [
       "PCA()"
      ]
     },
     "execution_count": 36,
     "metadata": {},
     "output_type": "execute_result"
    }
   ],
   "source": [
    "pca.fit(trainx)"
   ]
  },
  {
   "cell_type": "code",
   "execution_count": 37,
   "id": "ef1dfb7e",
   "metadata": {},
   "outputs": [
    {
     "name": "stdout",
     "output_type": "stream",
     "text": [
      "[7.44300127e-02 6.88584412e-02 6.39342548e-02 6.04384265e-02\n",
      " 5.64559476e-02 5.15061037e-02 4.81418266e-02 4.59670018e-02\n",
      " 3.93933276e-02 3.33005184e-02 3.25493359e-02 3.00015223e-02\n",
      " 2.61954936e-02 2.24391276e-02 2.18791409e-02 2.05332320e-02\n",
      " 1.91804724e-02 1.80560004e-02 1.50041925e-02 1.46359152e-02\n",
      " 1.42509292e-02 1.34526714e-02 1.24635858e-02 1.22455676e-02\n",
      " 1.17556624e-02 1.08497750e-02 1.05957788e-02 9.93897043e-03\n",
      " 9.49301379e-03 9.06124595e-03 8.96260735e-03 8.44152466e-03\n",
      " 7.78765028e-03 7.52239933e-03 6.96901323e-03 6.63831035e-03\n",
      " 6.37771401e-03 6.13879588e-03 4.97683732e-03 4.62391328e-03\n",
      " 4.40354911e-03 4.11524815e-03 4.01425604e-03 3.95911751e-03\n",
      " 3.76571251e-03 2.96022615e-03 2.80810930e-03 2.40939292e-03\n",
      " 2.35601128e-03 2.14877391e-03 2.08591184e-03 2.06598788e-03\n",
      " 1.97350349e-03 1.86489253e-03 1.67023343e-03 1.42055015e-03\n",
      " 1.31106796e-03 1.26390828e-03 1.07774572e-03 1.06784201e-03\n",
      " 1.04687517e-03 9.08057148e-04 8.77665545e-04 7.65246425e-04\n",
      " 5.74056699e-04 5.36980620e-04 5.28608123e-04 2.23253281e-04\n",
      " 2.08567144e-04 1.42390063e-04 7.78343031e-27 7.77979316e-28\n",
      " 6.16107721e-28 1.15669174e-28 8.95449926e-29 5.37649306e-29\n",
      " 1.46787318e-32]\n"
     ]
    }
   ],
   "source": [
    "print(pca.explained_variance_ratio_)"
   ]
  },
  {
   "cell_type": "code",
   "execution_count": 38,
   "id": "5ee7e72d",
   "metadata": {
    "scrolled": true
   },
   "outputs": [
    {
     "name": "stdout",
     "output_type": "stream",
     "text": [
      "[4.19574977e+02 4.03565588e+02 3.88868117e+02 3.78087316e+02\n",
      " 3.65418377e+02 3.49031708e+02 3.37440197e+02 3.29730121e+02\n",
      " 3.05243811e+02 2.80647405e+02 2.77463972e+02 2.66383413e+02\n",
      " 2.48913715e+02 2.30376681e+02 2.27483900e+02 2.20375946e+02\n",
      " 2.12992928e+02 2.06655187e+02 1.88383060e+02 1.86056769e+02\n",
      " 1.83593425e+02 1.78377388e+02 1.71694759e+02 1.70186456e+02\n",
      " 1.66747406e+02 1.60193872e+02 1.58307676e+02 1.53322620e+02\n",
      " 1.49843390e+02 1.46396095e+02 1.45597098e+02 1.41301242e+02\n",
      " 1.35718407e+02 1.33387068e+02 1.28387038e+02 1.25303820e+02\n",
      " 1.22819706e+02 1.20497248e+02 1.08495632e+02 1.04578010e+02\n",
      " 1.02055627e+02 9.86582818e+01 9.74401779e+01 9.67686604e+01\n",
      " 9.43754671e+01 8.36754350e+01 8.14971718e+01 7.54899867e+01\n",
      " 7.46490381e+01 7.12903742e+01 7.02398391e+01 6.99035800e+01\n",
      " 6.83210421e+01 6.64144282e+01 6.28527262e+01 5.79647301e+01\n",
      " 5.56862708e+01 5.46755691e+01 5.04886416e+01 5.02561291e+01\n",
      " 4.97602991e+01 4.63438515e+01 4.55617145e+01 4.25437911e+01\n",
      " 3.68479158e+01 3.56381244e+01 3.53592015e+01 2.29791763e+01\n",
      " 2.22105074e+01 1.83516608e+01 1.35681631e-10 4.28962728e-11\n",
      " 3.81736651e-11 1.65403369e-11 1.45531225e-11 1.12767792e-11\n",
      " 1.86328720e-13]\n"
     ]
    }
   ],
   "source": [
    "print(pca.singular_values_)"
   ]
  },
  {
   "cell_type": "code",
   "execution_count": null,
   "id": "925bdb50",
   "metadata": {},
   "outputs": [],
   "source": []
  },
  {
   "cell_type": "code",
   "execution_count": 39,
   "id": "5f15c2d2",
   "metadata": {},
   "outputs": [
    {
     "data": {
      "text/plain": [
       "[<matplotlib.lines.Line2D at 0x22e80043d00>]"
      ]
     },
     "execution_count": 39,
     "metadata": {},
     "output_type": "execute_result"
    },
    {
     "data": {
      "image/png": "[encoded data removed]",
      "text/plain": [
       "<Figure size 432x288 with 1 Axes>"
      ]
     },
     "metadata": {
      "needs_background": "light"
     },
     "output_type": "display_data"
    }
   ],
   "source": [
    "plt.plot(pca.explained_variance_ratio_)"
   ]
  },
  {
   "cell_type": "code",
   "execution_count": 40,
   "id": "e39e7c9b",
   "metadata": {},
   "outputs": [
    {
     "data": {
      "text/plain": [
       "array([0.07443001, 0.14328845, 0.20722271, 0.26766114, 0.32411708,\n",
       "       0.37562319, 0.42376501, 0.46973201, 0.50912534, 0.54242586,\n",
       "       0.5749752 , 0.60497672, 0.63117221, 0.65361134, 0.67549048,\n",
       "       0.69602371, 0.71520419, 0.73326019, 0.74826438, 0.76290029,\n",
       "       0.77715122, 0.79060389, 0.80306748, 0.81531305, 0.82706871,\n",
       "       0.83791848, 0.84851426, 0.85845323, 0.86794625, 0.87700749,\n",
       "       0.8859701 , 0.89441163, 0.90219928, 0.90972168, 0.91669069,\n",
       "       0.923329  , 0.92970671, 0.93584551, 0.94082235, 0.94544626,\n",
       "       0.94984981, 0.95396506, 0.95797931, 0.96193843, 0.96570414,\n",
       "       0.96866437, 0.97147248, 0.97388187, 0.97623788, 0.97838666,\n",
       "       0.98047257, 0.98253856, 0.98451206, 0.98637695, 0.98804719,\n",
       "       0.98946774, 0.9907788 , 0.99204271, 0.99312046, 0.9941883 ,\n",
       "       0.99523517, 0.99614323, 0.9970209 , 0.99778614, 0.9983602 ,\n",
       "       0.99889718, 0.99942579, 0.99964904, 0.99985761, 1.        ,\n",
       "       1.        , 1.        , 1.        , 1.        , 1.        ,\n",
       "       1.        , 1.        ])"
      ]
     },
     "execution_count": 40,
     "metadata": {},
     "output_type": "execute_result"
    }
   ],
   "source": [
    "np.cumsum(pca.explained_variance_ratio_)"
   ]
  },
  {
   "cell_type": "code",
   "execution_count": 41,
   "id": "f7246c92",
   "metadata": {},
   "outputs": [
    {
     "data": {
      "text/plain": [
       "[<matplotlib.lines.Line2D at 0x22e80146670>]"
      ]
     },
     "execution_count": 41,
     "metadata": {},
     "output_type": "execute_result"
    },
    {
     "data": {
      "image/png": "[encoded data removed]",
      "text/plain": [
       "<Figure size 432x288 with 1 Axes>"
      ]
     },
     "metadata": {
      "needs_background": "light"
     },
     "output_type": "display_data"
    }
   ],
   "source": [
    "plt.plot(np.cumsum(pca.explained_variance_ratio_))"
   ]
  },
  {
   "cell_type": "code",
   "execution_count": 42,
   "id": "251d676e",
   "metadata": {},
   "outputs": [],
   "source": [
    "pca=PCA(n_components=56).fit(trainx)"
   ]
  },
  {
   "cell_type": "code",
   "execution_count": 43,
   "id": "d1538717",
   "metadata": {},
   "outputs": [],
   "source": [
    "cp=pca.transform(trainx)"
   ]
  },
  {
   "cell_type": "code",
   "execution_count": 44,
   "id": "799e2c91",
   "metadata": {},
   "outputs": [],
   "source": [
    "cp=pd.DataFrame(cp)"
   ]
  },
  {
   "cell_type": "code",
   "execution_count": 45,
   "id": "e27332f7",
   "metadata": {},
   "outputs": [
    {
     "data": {
      "text/html": [
       "<div>\n",
       "<style scoped>\n",
       "    .dataframe tbody tr th:only-of-type {\n",
       "        vertical-align: middle;\n",
       "    }\n",
       "\n",
       "    .dataframe tbody tr th {\n",
       "        vertical-align: top;\n",
       "    }\n",
       "\n",
       "    .dataframe thead th {\n",
       "        text-align: right;\n",
       "    }\n",
       "</style>\n",
       "<table border=\"1\" class=\"dataframe\">\n",
       "  <thead>\n",
       "    <tr style=\"text-align: right;\">\n",
       "      <th></th>\n",
       "      <th>0</th>\n",
       "      <th>1</th>\n",
       "      <th>2</th>\n",
       "      <th>3</th>\n",
       "      <th>4</th>\n",
       "      <th>5</th>\n",
       "      <th>6</th>\n",
       "      <th>7</th>\n",
       "      <th>8</th>\n",
       "      <th>9</th>\n",
       "      <th>...</th>\n",
       "      <th>46</th>\n",
       "      <th>47</th>\n",
       "      <th>48</th>\n",
       "      <th>49</th>\n",
       "      <th>50</th>\n",
       "      <th>51</th>\n",
       "      <th>52</th>\n",
       "      <th>53</th>\n",
       "      <th>54</th>\n",
       "      <th>55</th>\n",
       "    </tr>\n",
       "  </thead>\n",
       "  <tbody>\n",
       "    <tr>\n",
       "      <th>0</th>\n",
       "      <td>-0.527238</td>\n",
       "      <td>0.128601</td>\n",
       "      <td>0.801614</td>\n",
       "      <td>0.673150</td>\n",
       "      <td>0.405651</td>\n",
       "      <td>-0.142186</td>\n",
       "      <td>-0.091506</td>\n",
       "      <td>0.057095</td>\n",
       "      <td>-0.431949</td>\n",
       "      <td>-0.535947</td>\n",
       "      <td>...</td>\n",
       "      <td>-0.065983</td>\n",
       "      <td>0.094123</td>\n",
       "      <td>-0.210413</td>\n",
       "      <td>-0.022950</td>\n",
       "      <td>-0.148372</td>\n",
       "      <td>-0.019228</td>\n",
       "      <td>0.087391</td>\n",
       "      <td>0.095037</td>\n",
       "      <td>-0.106386</td>\n",
       "      <td>0.203251</td>\n",
       "    </tr>\n",
       "    <tr>\n",
       "      <th>1</th>\n",
       "      <td>-0.570060</td>\n",
       "      <td>-0.657045</td>\n",
       "      <td>-0.665116</td>\n",
       "      <td>-0.008621</td>\n",
       "      <td>-0.202052</td>\n",
       "      <td>-0.525224</td>\n",
       "      <td>-0.180601</td>\n",
       "      <td>0.435171</td>\n",
       "      <td>0.469097</td>\n",
       "      <td>-0.249063</td>\n",
       "      <td>...</td>\n",
       "      <td>-0.068727</td>\n",
       "      <td>-0.048395</td>\n",
       "      <td>0.002732</td>\n",
       "      <td>0.004400</td>\n",
       "      <td>-0.017158</td>\n",
       "      <td>0.033703</td>\n",
       "      <td>-0.014251</td>\n",
       "      <td>-0.004828</td>\n",
       "      <td>0.010422</td>\n",
       "      <td>-0.005703</td>\n",
       "    </tr>\n",
       "    <tr>\n",
       "      <th>2</th>\n",
       "      <td>-0.780706</td>\n",
       "      <td>0.632880</td>\n",
       "      <td>-0.860478</td>\n",
       "      <td>-0.085128</td>\n",
       "      <td>0.020416</td>\n",
       "      <td>0.944446</td>\n",
       "      <td>0.125947</td>\n",
       "      <td>-0.522449</td>\n",
       "      <td>0.199193</td>\n",
       "      <td>-0.071257</td>\n",
       "      <td>...</td>\n",
       "      <td>-0.017526</td>\n",
       "      <td>0.120171</td>\n",
       "      <td>0.014099</td>\n",
       "      <td>-0.084181</td>\n",
       "      <td>0.031079</td>\n",
       "      <td>0.008790</td>\n",
       "      <td>0.015697</td>\n",
       "      <td>0.010961</td>\n",
       "      <td>-0.022254</td>\n",
       "      <td>-0.033723</td>\n",
       "    </tr>\n",
       "    <tr>\n",
       "      <th>3</th>\n",
       "      <td>-0.317541</td>\n",
       "      <td>0.108674</td>\n",
       "      <td>1.036670</td>\n",
       "      <td>0.527120</td>\n",
       "      <td>0.465184</td>\n",
       "      <td>-0.083115</td>\n",
       "      <td>0.513992</td>\n",
       "      <td>0.249345</td>\n",
       "      <td>-0.427775</td>\n",
       "      <td>-0.531759</td>\n",
       "      <td>...</td>\n",
       "      <td>0.065416</td>\n",
       "      <td>-0.039107</td>\n",
       "      <td>-0.073478</td>\n",
       "      <td>0.005115</td>\n",
       "      <td>-0.054011</td>\n",
       "      <td>-0.013878</td>\n",
       "      <td>0.026827</td>\n",
       "      <td>0.008834</td>\n",
       "      <td>0.056995</td>\n",
       "      <td>-0.062318</td>\n",
       "    </tr>\n",
       "    <tr>\n",
       "      <th>4</th>\n",
       "      <td>-0.290853</td>\n",
       "      <td>0.689231</td>\n",
       "      <td>-0.481657</td>\n",
       "      <td>-0.389481</td>\n",
       "      <td>-1.001042</td>\n",
       "      <td>0.197752</td>\n",
       "      <td>-0.006219</td>\n",
       "      <td>0.139038</td>\n",
       "      <td>0.389965</td>\n",
       "      <td>-0.004859</td>\n",
       "      <td>...</td>\n",
       "      <td>-0.115909</td>\n",
       "      <td>-0.079465</td>\n",
       "      <td>0.211748</td>\n",
       "      <td>-0.031497</td>\n",
       "      <td>-0.044748</td>\n",
       "      <td>0.004600</td>\n",
       "      <td>-0.617227</td>\n",
       "      <td>-0.100539</td>\n",
       "      <td>-0.543931</td>\n",
       "      <td>0.179483</td>\n",
       "    </tr>\n",
       "  </tbody>\n",
       "</table>\n",
       "<p>5 rows × 56 columns</p>\n",
       "</div>"
      ],
      "text/plain": [
       "         0         1         2         3         4         5         6   \\\n",
       "0 -0.527238  0.128601  0.801614  0.673150  0.405651 -0.142186 -0.091506   \n",
       "1 -0.570060 -0.657045 -0.665116 -0.008621 -0.202052 -0.525224 -0.180601   \n",
       "2 -0.780706  0.632880 -0.860478 -0.085128  0.020416  0.944446  0.125947   \n",
       "3 -0.317541  0.108674  1.036670  0.527120  0.465184 -0.083115  0.513992   \n",
       "4 -0.290853  0.689231 -0.481657 -0.389481 -1.001042  0.197752 -0.006219   \n",
       "\n",
       "         7         8         9   ...        46        47        48        49  \\\n",
       "0  0.057095 -0.431949 -0.535947  ... -0.065983  0.094123 -0.210413 -0.022950   \n",
       "1  0.435171  0.469097 -0.249063  ... -0.068727 -0.048395  0.002732  0.004400   \n",
       "2 -0.522449  0.199193 -0.071257  ... -0.017526  0.120171  0.014099 -0.084181   \n",
       "3  0.249345 -0.427775 -0.531759  ...  0.065416 -0.039107 -0.073478  0.005115   \n",
       "4  0.139038  0.389965 -0.004859  ... -0.115909 -0.079465  0.211748 -0.031497   \n",
       "\n",
       "         50        51        52        53        54        55  \n",
       "0 -0.148372 -0.019228  0.087391  0.095037 -0.106386  0.203251  \n",
       "1 -0.017158  0.033703 -0.014251 -0.004828  0.010422 -0.005703  \n",
       "2  0.031079  0.008790  0.015697  0.010961 -0.022254 -0.033723  \n",
       "3 -0.054011 -0.013878  0.026827  0.008834  0.056995 -0.062318  \n",
       "4 -0.044748  0.004600 -0.617227 -0.100539 -0.543931  0.179483  \n",
       "\n",
       "[5 rows x 56 columns]"
      ]
     },
     "execution_count": 45,
     "metadata": {},
     "output_type": "execute_result"
    }
   ],
   "source": [
    "cp.head()"
   ]
  },
  {
   "cell_type": "code",
   "execution_count": 46,
   "id": "8c0f1a2e",
   "metadata": {},
   "outputs": [
    {
     "data": {
      "text/plain": [
       "[<matplotlib.lines.Line2D at 0x22e801af970>]"
      ]
     },
     "execution_count": 46,
     "metadata": {},
     "output_type": "execute_result"
    },
    {
     "data": {
      "image/png": "[encoded data removed]",
      "text/plain": [
       "<Figure size 432x288 with 1 Axes>"
      ]
     },
     "metadata": {
      "needs_background": "light"
     },
     "output_type": "display_data"
    }
   ],
   "source": [
    "plt.plot(pca.explained_variance_ratio_)"
   ]
  },
  {
   "cell_type": "code",
   "execution_count": 47,
   "id": "3f450982",
   "metadata": {},
   "outputs": [
    {
     "data": {
      "text/plain": [
       "[<matplotlib.lines.Line2D at 0x22e80213be0>]"
      ]
     },
     "execution_count": 47,
     "metadata": {},
     "output_type": "execute_result"
    },
    {
     "data": {
      "image/png": "[encoded data removed]",
      "text/plain": [
       "<Figure size 432x288 with 1 Axes>"
      ]
     },
     "metadata": {
      "needs_background": "light"
     },
     "output_type": "display_data"
    }
   ],
   "source": [
    "plt.plot(np.cumsum(pca.explained_variance_ratio_))"
   ]
  },
  {
   "cell_type": "code",
   "execution_count": 49,
   "id": "99546f6d",
   "metadata": {},
   "outputs": [],
   "source": []
  }
 ],
 "metadata": {
  "kernelspec": {
   "display_name": "Python 3 (ipykernel)",
   "language": "python",
   "name": "python3"
  },
  "language_info": {
   "codemirror_mode": {
    "name": "ipython",
    "version": 3
   },
   "file_extension": ".py",
   "mimetype": "text/x-python",
   "name": "python",
   "nbconvert_exporter": "python",
   "pygments_lexer": "ipython3",
   "version": "3.9.7"
  }
 },
 "nbformat": 4,
 "nbformat_minor": 5
}
