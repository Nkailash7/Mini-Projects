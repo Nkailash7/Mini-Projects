{
 "cells": [
  {
   "cell_type": "code",
   "execution_count": 1,
   "id": "5964e2b2",
   "metadata": {},
   "outputs": [],
   "source": [
    "import pandas as pd\n",
    "import numpy as np\n",
    "import seaborn as sns\n",
    "from scipy import stats\n",
    "import matplotlib.pyplot as plt\n",
    "from sklearn.model_selection import train_test_split\n",
    "from scipy.stats import pearsonr\n",
    "from sklearn.preprocessing import MinMaxScaler\n",
    "from sklearn.linear_model import LinearRegression\n",
    "from sklearn.tree import DecisionTreeRegressor\n",
    "from sklearn.ensemble import RandomForestRegressor\n",
    "from sklearn.ensemble import GradientBoostingRegressor\n",
    "from sklearn.ensemble import AdaBoostRegressor\n",
    "from sklearn.linear_model import Ridge\n",
    "from sklearn.metrics import mean_squared_error\n",
    "from sklearn.metrics import r2_score\n",
    "from sklearn.decomposition import PCA"
   ]
  },
  {
   "cell_type": "code",
   "execution_count": 2,
   "id": "d68979dc",
   "metadata": {},
   "outputs": [],
   "source": [
    "train_df = pd.read_csv(\"Train.csv\")\n",
    "test_df = pd.read_csv(\"Test.csv\")"
   ]
  },
  {
   "cell_type": "code",
   "execution_count": 3,
   "id": "b5969b31",
   "metadata": {},
   "outputs": [
    {
     "name": "stdout",
     "output_type": "stream",
     "text": [
      "(14576, 16) (2143, 15) (16719, 16)\n"
     ]
    }
   ],
   "source": [
    "train_df['source']='train'\n",
    "test_df['source']='test'\n",
    "df = pd.concat([train_df, test_df],ignore_index=True)\n",
    "print(train_df.shape, test_df.shape, df.shape)"
   ]
  },
  {
   "cell_type": "code",
   "execution_count": 4,
   "id": "cfd2c952",
   "metadata": {},
   "outputs": [
    {
     "data": {
      "text/html": [
       "<div>\n",
       "<style scoped>\n",
       "    .dataframe tbody tr th:only-of-type {\n",
       "        vertical-align: middle;\n",
       "    }\n",
       "\n",
       "    .dataframe tbody tr th {\n",
       "        vertical-align: top;\n",
       "    }\n",
       "\n",
       "    .dataframe thead th {\n",
       "        text-align: right;\n",
       "    }\n",
       "</style>\n",
       "<table border=\"1\" class=\"dataframe\">\n",
       "  <thead>\n",
       "    <tr style=\"text-align: right;\">\n",
       "      <th></th>\n",
       "      <th>Name</th>\n",
       "      <th>Platform</th>\n",
       "      <th>Year_of_Release</th>\n",
       "      <th>Genre</th>\n",
       "      <th>Publisher</th>\n",
       "      <th>NA_Sales</th>\n",
       "      <th>EU_Sales</th>\n",
       "      <th>JP_Sales</th>\n",
       "      <th>Critic_Score</th>\n",
       "      <th>Critic_Count</th>\n",
       "      <th>User_Score</th>\n",
       "      <th>User_Count</th>\n",
       "      <th>Developer</th>\n",
       "      <th>Rating</th>\n",
       "      <th>Global_Sales</th>\n",
       "      <th>source</th>\n",
       "    </tr>\n",
       "  </thead>\n",
       "  <tbody>\n",
       "    <tr>\n",
       "      <th>0</th>\n",
       "      <td>Wii Sports</td>\n",
       "      <td>Wii</td>\n",
       "      <td>2006.0</td>\n",
       "      <td>Sports</td>\n",
       "      <td>Nintendo</td>\n",
       "      <td>41.36</td>\n",
       "      <td>28.96</td>\n",
       "      <td>3.77</td>\n",
       "      <td>76.0</td>\n",
       "      <td>51.0</td>\n",
       "      <td>8</td>\n",
       "      <td>322.0</td>\n",
       "      <td>Nintendo</td>\n",
       "      <td>E</td>\n",
       "      <td>82.53</td>\n",
       "      <td>train</td>\n",
       "    </tr>\n",
       "    <tr>\n",
       "      <th>1</th>\n",
       "      <td>Super Mario Bros.</td>\n",
       "      <td>NES</td>\n",
       "      <td>1985.0</td>\n",
       "      <td>Platform</td>\n",
       "      <td>Nintendo</td>\n",
       "      <td>29.08</td>\n",
       "      <td>3.58</td>\n",
       "      <td>6.81</td>\n",
       "      <td>NaN</td>\n",
       "      <td>NaN</td>\n",
       "      <td>NaN</td>\n",
       "      <td>NaN</td>\n",
       "      <td>NaN</td>\n",
       "      <td>NaN</td>\n",
       "      <td>40.24</td>\n",
       "      <td>train</td>\n",
       "    </tr>\n",
       "    <tr>\n",
       "      <th>2</th>\n",
       "      <td>Mario Kart Wii</td>\n",
       "      <td>Wii</td>\n",
       "      <td>2008.0</td>\n",
       "      <td>Racing</td>\n",
       "      <td>Nintendo</td>\n",
       "      <td>15.68</td>\n",
       "      <td>12.76</td>\n",
       "      <td>3.79</td>\n",
       "      <td>82.0</td>\n",
       "      <td>73.0</td>\n",
       "      <td>8.3</td>\n",
       "      <td>709.0</td>\n",
       "      <td>Nintendo</td>\n",
       "      <td>E</td>\n",
       "      <td>35.52</td>\n",
       "      <td>train</td>\n",
       "    </tr>\n",
       "    <tr>\n",
       "      <th>3</th>\n",
       "      <td>Wii Sports Resort</td>\n",
       "      <td>Wii</td>\n",
       "      <td>2009.0</td>\n",
       "      <td>Sports</td>\n",
       "      <td>Nintendo</td>\n",
       "      <td>15.61</td>\n",
       "      <td>10.93</td>\n",
       "      <td>3.28</td>\n",
       "      <td>80.0</td>\n",
       "      <td>73.0</td>\n",
       "      <td>8</td>\n",
       "      <td>192.0</td>\n",
       "      <td>Nintendo</td>\n",
       "      <td>E</td>\n",
       "      <td>32.77</td>\n",
       "      <td>train</td>\n",
       "    </tr>\n",
       "    <tr>\n",
       "      <th>4</th>\n",
       "      <td>Pokemon Red/Pokemon Blue</td>\n",
       "      <td>GB</td>\n",
       "      <td>1996.0</td>\n",
       "      <td>Role-Playing</td>\n",
       "      <td>Nintendo</td>\n",
       "      <td>11.27</td>\n",
       "      <td>8.89</td>\n",
       "      <td>10.22</td>\n",
       "      <td>NaN</td>\n",
       "      <td>NaN</td>\n",
       "      <td>NaN</td>\n",
       "      <td>NaN</td>\n",
       "      <td>NaN</td>\n",
       "      <td>NaN</td>\n",
       "      <td>31.37</td>\n",
       "      <td>train</td>\n",
       "    </tr>\n",
       "  </tbody>\n",
       "</table>\n",
       "</div>"
      ],
      "text/plain": [
       "                       Name Platform  Year_of_Release         Genre Publisher  \\\n",
       "0                Wii Sports      Wii           2006.0        Sports  Nintendo   \n",
       "1         Super Mario Bros.      NES           1985.0      Platform  Nintendo   \n",
       "2            Mario Kart Wii      Wii           2008.0        Racing  Nintendo   \n",
       "3         Wii Sports Resort      Wii           2009.0        Sports  Nintendo   \n",
       "4  Pokemon Red/Pokemon Blue       GB           1996.0  Role-Playing  Nintendo   \n",
       "\n",
       "   NA_Sales  EU_Sales  JP_Sales  Critic_Score  Critic_Count User_Score  \\\n",
       "0     41.36     28.96      3.77          76.0          51.0          8   \n",
       "1     29.08      3.58      6.81           NaN           NaN        NaN   \n",
       "2     15.68     12.76      3.79          82.0          73.0        8.3   \n",
       "3     15.61     10.93      3.28          80.0          73.0          8   \n",
       "4     11.27      8.89     10.22           NaN           NaN        NaN   \n",
       "\n",
       "   User_Count Developer Rating  Global_Sales source  \n",
       "0       322.0  Nintendo      E         82.53  train  \n",
       "1         NaN       NaN    NaN         40.24  train  \n",
       "2       709.0  Nintendo      E         35.52  train  \n",
       "3       192.0  Nintendo      E         32.77  train  \n",
       "4         NaN       NaN    NaN         31.37  train  "
      ]
     },
     "execution_count": 4,
     "metadata": {},
     "output_type": "execute_result"
    }
   ],
   "source": [
    "df.head()"
   ]
  },
  {
   "cell_type": "code",
   "execution_count": 5,
   "id": "e2025100",
   "metadata": {
    "scrolled": true
   },
   "outputs": [
    {
     "data": {
      "text/html": [
       "<div>\n",
       "<style scoped>\n",
       "    .dataframe tbody tr th:only-of-type {\n",
       "        vertical-align: middle;\n",
       "    }\n",
       "\n",
       "    .dataframe tbody tr th {\n",
       "        vertical-align: top;\n",
       "    }\n",
       "\n",
       "    .dataframe thead th {\n",
       "        text-align: right;\n",
       "    }\n",
       "</style>\n",
       "<table border=\"1\" class=\"dataframe\">\n",
       "  <thead>\n",
       "    <tr style=\"text-align: right;\">\n",
       "      <th></th>\n",
       "      <th>count</th>\n",
       "      <th>mean</th>\n",
       "      <th>std</th>\n",
       "      <th>min</th>\n",
       "      <th>25%</th>\n",
       "      <th>50%</th>\n",
       "      <th>75%</th>\n",
       "      <th>max</th>\n",
       "    </tr>\n",
       "  </thead>\n",
       "  <tbody>\n",
       "    <tr>\n",
       "      <th>Year_of_Release</th>\n",
       "      <td>16450.0</td>\n",
       "      <td>2006.487356</td>\n",
       "      <td>5.878995</td>\n",
       "      <td>1980.00</td>\n",
       "      <td>2003.00</td>\n",
       "      <td>2007.00</td>\n",
       "      <td>2010.00</td>\n",
       "      <td>2020.00</td>\n",
       "    </tr>\n",
       "    <tr>\n",
       "      <th>NA_Sales</th>\n",
       "      <td>16719.0</td>\n",
       "      <td>0.263330</td>\n",
       "      <td>0.813514</td>\n",
       "      <td>0.00</td>\n",
       "      <td>0.00</td>\n",
       "      <td>0.08</td>\n",
       "      <td>0.24</td>\n",
       "      <td>41.36</td>\n",
       "    </tr>\n",
       "    <tr>\n",
       "      <th>EU_Sales</th>\n",
       "      <td>16719.0</td>\n",
       "      <td>0.145025</td>\n",
       "      <td>0.503283</td>\n",
       "      <td>0.00</td>\n",
       "      <td>0.00</td>\n",
       "      <td>0.02</td>\n",
       "      <td>0.11</td>\n",
       "      <td>28.96</td>\n",
       "    </tr>\n",
       "    <tr>\n",
       "      <th>JP_Sales</th>\n",
       "      <td>16719.0</td>\n",
       "      <td>0.077602</td>\n",
       "      <td>0.308818</td>\n",
       "      <td>0.00</td>\n",
       "      <td>0.00</td>\n",
       "      <td>0.00</td>\n",
       "      <td>0.04</td>\n",
       "      <td>10.22</td>\n",
       "    </tr>\n",
       "    <tr>\n",
       "      <th>Critic_Score</th>\n",
       "      <td>8137.0</td>\n",
       "      <td>68.967679</td>\n",
       "      <td>13.938165</td>\n",
       "      <td>13.00</td>\n",
       "      <td>60.00</td>\n",
       "      <td>71.00</td>\n",
       "      <td>79.00</td>\n",
       "      <td>98.00</td>\n",
       "    </tr>\n",
       "    <tr>\n",
       "      <th>Critic_Count</th>\n",
       "      <td>8137.0</td>\n",
       "      <td>26.360821</td>\n",
       "      <td>18.980495</td>\n",
       "      <td>3.00</td>\n",
       "      <td>12.00</td>\n",
       "      <td>21.00</td>\n",
       "      <td>36.00</td>\n",
       "      <td>113.00</td>\n",
       "    </tr>\n",
       "    <tr>\n",
       "      <th>User_Count</th>\n",
       "      <td>7590.0</td>\n",
       "      <td>162.229908</td>\n",
       "      <td>561.282326</td>\n",
       "      <td>4.00</td>\n",
       "      <td>10.00</td>\n",
       "      <td>24.00</td>\n",
       "      <td>81.00</td>\n",
       "      <td>10665.00</td>\n",
       "    </tr>\n",
       "    <tr>\n",
       "      <th>Global_Sales</th>\n",
       "      <td>14576.0</td>\n",
       "      <td>0.598972</td>\n",
       "      <td>1.647699</td>\n",
       "      <td>0.01</td>\n",
       "      <td>0.05</td>\n",
       "      <td>0.22</td>\n",
       "      <td>0.55</td>\n",
       "      <td>82.53</td>\n",
       "    </tr>\n",
       "  </tbody>\n",
       "</table>\n",
       "</div>"
      ],
      "text/plain": [
       "                   count         mean         std      min      25%      50%  \\\n",
       "Year_of_Release  16450.0  2006.487356    5.878995  1980.00  2003.00  2007.00   \n",
       "NA_Sales         16719.0     0.263330    0.813514     0.00     0.00     0.08   \n",
       "EU_Sales         16719.0     0.145025    0.503283     0.00     0.00     0.02   \n",
       "JP_Sales         16719.0     0.077602    0.308818     0.00     0.00     0.00   \n",
       "Critic_Score      8137.0    68.967679   13.938165    13.00    60.00    71.00   \n",
       "Critic_Count      8137.0    26.360821   18.980495     3.00    12.00    21.00   \n",
       "User_Count        7590.0   162.229908  561.282326     4.00    10.00    24.00   \n",
       "Global_Sales     14576.0     0.598972    1.647699     0.01     0.05     0.22   \n",
       "\n",
       "                     75%       max  \n",
       "Year_of_Release  2010.00   2020.00  \n",
       "NA_Sales            0.24     41.36  \n",
       "EU_Sales            0.11     28.96  \n",
       "JP_Sales            0.04     10.22  \n",
       "Critic_Score       79.00     98.00  \n",
       "Critic_Count       36.00    113.00  \n",
       "User_Count         81.00  10665.00  \n",
       "Global_Sales        0.55     82.53  "
      ]
     },
     "execution_count": 5,
     "metadata": {},
     "output_type": "execute_result"
    }
   ],
   "source": [
    "df.describe().transpose()"
   ]
  },
  {
   "cell_type": "code",
   "execution_count": 6,
   "id": "948f8cbf",
   "metadata": {},
   "outputs": [
    {
     "data": {
      "text/plain": [
       "Name                  2\n",
       "Platform              0\n",
       "Year_of_Release     269\n",
       "Genre                 2\n",
       "Publisher            54\n",
       "NA_Sales              0\n",
       "EU_Sales              0\n",
       "JP_Sales              0\n",
       "Critic_Score       8582\n",
       "Critic_Count       8582\n",
       "User_Score         6704\n",
       "User_Count         9129\n",
       "Developer          6623\n",
       "Rating             6769\n",
       "Global_Sales       2143\n",
       "source                0\n",
       "dtype: int64"
      ]
     },
     "execution_count": 6,
     "metadata": {},
     "output_type": "execute_result"
    }
   ],
   "source": [
    "df.isnull().sum()"
   ]
  },
  {
   "cell_type": "code",
   "execution_count": 7,
   "id": "70c7a384",
   "metadata": {},
   "outputs": [
    {
     "data": {
      "text/plain": [
       "Name               0.000120\n",
       "Platform           0.000000\n",
       "Year_of_Release    0.016089\n",
       "Genre              0.000120\n",
       "Publisher          0.003230\n",
       "NA_Sales           0.000000\n",
       "EU_Sales           0.000000\n",
       "JP_Sales           0.000000\n",
       "Critic_Score       0.513308\n",
       "Critic_Count       0.513308\n",
       "User_Score         0.400981\n",
       "User_Count         0.546025\n",
       "Developer          0.396136\n",
       "Rating             0.404869\n",
       "Global_Sales       0.128178\n",
       "source             0.000000\n",
       "dtype: float64"
      ]
     },
     "execution_count": 7,
     "metadata": {},
     "output_type": "execute_result"
    }
   ],
   "source": [
    "df.isnull().mean()"
   ]
  },
  {
   "cell_type": "code",
   "execution_count": 8,
   "id": "dd8ee89d",
   "metadata": {},
   "outputs": [
    {
     "name": "stderr",
     "output_type": "stream",
     "text": [
      "C:\\Users\\KAILASH\\anaconda3\\lib\\site-packages\\pandas\\core\\indexing.py:1732: SettingWithCopyWarning: \n",
      "A value is trying to be set on a copy of a slice from a DataFrame\n",
      "\n",
      "See the caveats in the documentation: https://pandas.pydata.org/pandas-docs/stable/user_guide/indexing.html#returning-a-view-versus-a-copy\n",
      "  self._setitem_single_block(indexer, value, name)\n"
     ]
    }
   ],
   "source": [
    "for j in df[df['Year_of_Release'].isnull()].index.tolist():\n",
    "    df.Year_of_Release.iloc[j] =  df.Year_of_Release[df['Platform']==df['Platform'].iloc[j]].mode().max()\n",
    "df['Year_of_Release'] = df['Year_of_Release'].astype(str)    "
   ]
  },
  {
   "cell_type": "code",
   "execution_count": 9,
   "id": "61270ab3",
   "metadata": {},
   "outputs": [],
   "source": [
    "df.drop(df[df['Genre'].isnull()].index.tolist(), axis=0, inplace=True) "
   ]
  },
  {
   "cell_type": "code",
   "execution_count": 10,
   "id": "75ba3c08",
   "metadata": {},
   "outputs": [],
   "source": [
    "df.Publisher.fillna(\"Others\",inplace=True)"
   ]
  },
  {
   "cell_type": "code",
   "execution_count": 11,
   "id": "b701f16a",
   "metadata": {},
   "outputs": [],
   "source": [
    "df.Critic_Score.fillna(df.Critic_Score.mean(),inplace=True)"
   ]
  },
  {
   "cell_type": "code",
   "execution_count": 12,
   "id": "d378c807",
   "metadata": {},
   "outputs": [],
   "source": [
    "df.Critic_Count.fillna(df.Critic_Count.mean(),inplace=True)"
   ]
  },
  {
   "cell_type": "code",
   "execution_count": 13,
   "id": "5fb1ae33",
   "metadata": {},
   "outputs": [],
   "source": [
    "df.User_Score = df.User_Score.replace('tbd',None)\n",
    "df.User_Score.fillna('0',inplace=True)\n",
    "df.User_Score = df.User_Score.astype(float)\n",
    "df.User_Score = df.User_Score.replace(0,df.User_Score.mean())"
   ]
  },
  {
   "cell_type": "code",
   "execution_count": 14,
   "id": "23cfaba1",
   "metadata": {},
   "outputs": [],
   "source": [
    "df.User_Count.fillna(df.User_Count.mean(),inplace=True)"
   ]
  },
  {
   "cell_type": "code",
   "execution_count": 15,
   "id": "207d64c8",
   "metadata": {},
   "outputs": [],
   "source": [
    "df.Rating.fillna(\"Others\",inplace=True)    "
   ]
  },
  {
   "cell_type": "code",
   "execution_count": 16,
   "id": "e795861b",
   "metadata": {},
   "outputs": [
    {
     "data": {
      "text/plain": [
       "Name                  0\n",
       "Platform              0\n",
       "Year_of_Release       0\n",
       "Genre                 0\n",
       "Publisher             0\n",
       "NA_Sales              0\n",
       "EU_Sales              0\n",
       "JP_Sales              0\n",
       "Critic_Score          0\n",
       "Critic_Count          0\n",
       "User_Score            0\n",
       "User_Count            0\n",
       "Developer          6621\n",
       "Rating                0\n",
       "Global_Sales       2143\n",
       "source                0\n",
       "dtype: int64"
      ]
     },
     "execution_count": 16,
     "metadata": {},
     "output_type": "execute_result"
    }
   ],
   "source": [
    "df.isnull().sum()"
   ]
  },
  {
   "cell_type": "code",
   "execution_count": 17,
   "id": "c50189fb",
   "metadata": {},
   "outputs": [
    {
     "name": "stdout",
     "output_type": "stream",
     "text": [
      "<class 'pandas.core.frame.DataFrame'>\n",
      "Int64Index: 16717 entries, 0 to 16718\n",
      "Data columns (total 16 columns):\n",
      " #   Column           Non-Null Count  Dtype  \n",
      "---  ------           --------------  -----  \n",
      " 0   Name             16717 non-null  object \n",
      " 1   Platform         16717 non-null  object \n",
      " 2   Year_of_Release  16717 non-null  object \n",
      " 3   Genre            16717 non-null  object \n",
      " 4   Publisher        16717 non-null  object \n",
      " 5   NA_Sales         16717 non-null  float64\n",
      " 6   EU_Sales         16717 non-null  float64\n",
      " 7   JP_Sales         16717 non-null  float64\n",
      " 8   Critic_Score     16717 non-null  float64\n",
      " 9   Critic_Count     16717 non-null  float64\n",
      " 10  User_Score       16717 non-null  float64\n",
      " 11  User_Count       16717 non-null  float64\n",
      " 12  Developer        10096 non-null  object \n",
      " 13  Rating           16717 non-null  object \n",
      " 14  Global_Sales     14574 non-null  float64\n",
      " 15  source           16717 non-null  object \n",
      "dtypes: float64(8), object(8)\n",
      "memory usage: 2.2+ MB\n"
     ]
    }
   ],
   "source": [
    "df.info()"
   ]
  },
  {
   "cell_type": "code",
   "execution_count": 18,
   "id": "700535f9",
   "metadata": {},
   "outputs": [],
   "source": [
    "dfd = pd.get_dummies(df.drop(['Name','source'],axis=1))\n",
    "dfd['source'] = df.source "
   ]
  },
  {
   "cell_type": "code",
   "execution_count": 19,
   "id": "f716e8b1",
   "metadata": {},
   "outputs": [
    {
     "data": {
      "text/html": [
       "<div>\n",
       "<style scoped>\n",
       "    .dataframe tbody tr th:only-of-type {\n",
       "        vertical-align: middle;\n",
       "    }\n",
       "\n",
       "    .dataframe tbody tr th {\n",
       "        vertical-align: top;\n",
       "    }\n",
       "\n",
       "    .dataframe thead th {\n",
       "        text-align: right;\n",
       "    }\n",
       "</style>\n",
       "<table border=\"1\" class=\"dataframe\">\n",
       "  <thead>\n",
       "    <tr style=\"text-align: right;\">\n",
       "      <th></th>\n",
       "      <th>NA_Sales</th>\n",
       "      <th>EU_Sales</th>\n",
       "      <th>JP_Sales</th>\n",
       "      <th>Critic_Score</th>\n",
       "      <th>Critic_Count</th>\n",
       "      <th>User_Score</th>\n",
       "      <th>User_Count</th>\n",
       "      <th>Global_Sales</th>\n",
       "      <th>Platform_2600</th>\n",
       "      <th>Platform_3DO</th>\n",
       "      <th>...</th>\n",
       "      <th>Rating_AO</th>\n",
       "      <th>Rating_E</th>\n",
       "      <th>Rating_E10+</th>\n",
       "      <th>Rating_EC</th>\n",
       "      <th>Rating_K-A</th>\n",
       "      <th>Rating_M</th>\n",
       "      <th>Rating_Others</th>\n",
       "      <th>Rating_RP</th>\n",
       "      <th>Rating_T</th>\n",
       "      <th>source</th>\n",
       "    </tr>\n",
       "  </thead>\n",
       "  <tbody>\n",
       "    <tr>\n",
       "      <th>0</th>\n",
       "      <td>41.36</td>\n",
       "      <td>28.96</td>\n",
       "      <td>3.77</td>\n",
       "      <td>76.000000</td>\n",
       "      <td>51.000000</td>\n",
       "      <td>8.000000</td>\n",
       "      <td>322.000000</td>\n",
       "      <td>82.53</td>\n",
       "      <td>0</td>\n",
       "      <td>0</td>\n",
       "      <td>...</td>\n",
       "      <td>0</td>\n",
       "      <td>1</td>\n",
       "      <td>0</td>\n",
       "      <td>0</td>\n",
       "      <td>0</td>\n",
       "      <td>0</td>\n",
       "      <td>0</td>\n",
       "      <td>0</td>\n",
       "      <td>0</td>\n",
       "      <td>train</td>\n",
       "    </tr>\n",
       "    <tr>\n",
       "      <th>1</th>\n",
       "      <td>29.08</td>\n",
       "      <td>3.58</td>\n",
       "      <td>6.81</td>\n",
       "      <td>68.967679</td>\n",
       "      <td>26.360821</td>\n",
       "      <td>3.720386</td>\n",
       "      <td>162.229908</td>\n",
       "      <td>40.24</td>\n",
       "      <td>0</td>\n",
       "      <td>0</td>\n",
       "      <td>...</td>\n",
       "      <td>0</td>\n",
       "      <td>0</td>\n",
       "      <td>0</td>\n",
       "      <td>0</td>\n",
       "      <td>0</td>\n",
       "      <td>0</td>\n",
       "      <td>1</td>\n",
       "      <td>0</td>\n",
       "      <td>0</td>\n",
       "      <td>train</td>\n",
       "    </tr>\n",
       "    <tr>\n",
       "      <th>2</th>\n",
       "      <td>15.68</td>\n",
       "      <td>12.76</td>\n",
       "      <td>3.79</td>\n",
       "      <td>82.000000</td>\n",
       "      <td>73.000000</td>\n",
       "      <td>8.300000</td>\n",
       "      <td>709.000000</td>\n",
       "      <td>35.52</td>\n",
       "      <td>0</td>\n",
       "      <td>0</td>\n",
       "      <td>...</td>\n",
       "      <td>0</td>\n",
       "      <td>1</td>\n",
       "      <td>0</td>\n",
       "      <td>0</td>\n",
       "      <td>0</td>\n",
       "      <td>0</td>\n",
       "      <td>0</td>\n",
       "      <td>0</td>\n",
       "      <td>0</td>\n",
       "      <td>train</td>\n",
       "    </tr>\n",
       "    <tr>\n",
       "      <th>3</th>\n",
       "      <td>15.61</td>\n",
       "      <td>10.93</td>\n",
       "      <td>3.28</td>\n",
       "      <td>80.000000</td>\n",
       "      <td>73.000000</td>\n",
       "      <td>8.000000</td>\n",
       "      <td>192.000000</td>\n",
       "      <td>32.77</td>\n",
       "      <td>0</td>\n",
       "      <td>0</td>\n",
       "      <td>...</td>\n",
       "      <td>0</td>\n",
       "      <td>1</td>\n",
       "      <td>0</td>\n",
       "      <td>0</td>\n",
       "      <td>0</td>\n",
       "      <td>0</td>\n",
       "      <td>0</td>\n",
       "      <td>0</td>\n",
       "      <td>0</td>\n",
       "      <td>train</td>\n",
       "    </tr>\n",
       "    <tr>\n",
       "      <th>4</th>\n",
       "      <td>11.27</td>\n",
       "      <td>8.89</td>\n",
       "      <td>10.22</td>\n",
       "      <td>68.967679</td>\n",
       "      <td>26.360821</td>\n",
       "      <td>3.720386</td>\n",
       "      <td>162.229908</td>\n",
       "      <td>31.37</td>\n",
       "      <td>0</td>\n",
       "      <td>0</td>\n",
       "      <td>...</td>\n",
       "      <td>0</td>\n",
       "      <td>0</td>\n",
       "      <td>0</td>\n",
       "      <td>0</td>\n",
       "      <td>0</td>\n",
       "      <td>0</td>\n",
       "      <td>1</td>\n",
       "      <td>0</td>\n",
       "      <td>0</td>\n",
       "      <td>train</td>\n",
       "    </tr>\n",
       "  </tbody>\n",
       "</table>\n",
       "<p>5 rows × 2377 columns</p>\n",
       "</div>"
      ],
      "text/plain": [
       "   NA_Sales  EU_Sales  JP_Sales  Critic_Score  Critic_Count  User_Score  \\\n",
       "0     41.36     28.96      3.77     76.000000     51.000000    8.000000   \n",
       "1     29.08      3.58      6.81     68.967679     26.360821    3.720386   \n",
       "2     15.68     12.76      3.79     82.000000     73.000000    8.300000   \n",
       "3     15.61     10.93      3.28     80.000000     73.000000    8.000000   \n",
       "4     11.27      8.89     10.22     68.967679     26.360821    3.720386   \n",
       "\n",
       "   User_Count  Global_Sales  Platform_2600  Platform_3DO  ...  Rating_AO  \\\n",
       "0  322.000000         82.53              0             0  ...          0   \n",
       "1  162.229908         40.24              0             0  ...          0   \n",
       "2  709.000000         35.52              0             0  ...          0   \n",
       "3  192.000000         32.77              0             0  ...          0   \n",
       "4  162.229908         31.37              0             0  ...          0   \n",
       "\n",
       "   Rating_E  Rating_E10+  Rating_EC  Rating_K-A  Rating_M  Rating_Others  \\\n",
       "0         1            0          0           0         0              0   \n",
       "1         0            0          0           0         0              1   \n",
       "2         1            0          0           0         0              0   \n",
       "3         1            0          0           0         0              0   \n",
       "4         0            0          0           0         0              1   \n",
       "\n",
       "   Rating_RP  Rating_T  source  \n",
       "0          0         0   train  \n",
       "1          0         0   train  \n",
       "2          0         0   train  \n",
       "3          0         0   train  \n",
       "4          0         0   train  \n",
       "\n",
       "[5 rows x 2377 columns]"
      ]
     },
     "execution_count": 19,
     "metadata": {},
     "output_type": "execute_result"
    }
   ],
   "source": [
    "dfd.head()"
   ]
  },
  {
   "cell_type": "code",
   "execution_count": 20,
   "id": "a97fc006",
   "metadata": {},
   "outputs": [],
   "source": [
    "train = dfd.loc[dfd['source']==\"train\"]\n",
    "test = dfd.loc[dfd['source']==\"test\"]"
   ]
  },
  {
   "cell_type": "code",
   "execution_count": 21,
   "id": "bef8069d",
   "metadata": {},
   "outputs": [
    {
     "name": "stderr",
     "output_type": "stream",
     "text": [
      "C:\\Users\\KAILASH\\anaconda3\\lib\\site-packages\\pandas\\core\\frame.py:4906: SettingWithCopyWarning: \n",
      "A value is trying to be set on a copy of a slice from a DataFrame\n",
      "\n",
      "See the caveats in the documentation: https://pandas.pydata.org/pandas-docs/stable/user_guide/indexing.html#returning-a-view-versus-a-copy\n",
      "  return super().drop(\n"
     ]
    }
   ],
   "source": [
    "train.drop(['source'],axis=1,inplace=True)\n",
    "test.drop(['Global_Sales','source'],axis=1,inplace=True)"
   ]
  },
  {
   "cell_type": "code",
   "execution_count": 22,
   "id": "31c025e1",
   "metadata": {},
   "outputs": [],
   "source": [
    "x = train.drop(['Global_Sales'],axis=1)\n",
    "y = train['Global_Sales']\n",
    "train_x,test_x,train_y,test_y = train_test_split(x,y,test_size=0.2,random_state=42)"
   ]
  },
  {
   "cell_type": "code",
   "execution_count": 23,
   "id": "29a649c2",
   "metadata": {},
   "outputs": [],
   "source": [
    "pca = PCA(n_components=500)"
   ]
  },
  {
   "cell_type": "code",
   "execution_count": 24,
   "id": "4b22869e",
   "metadata": {},
   "outputs": [
    {
     "data": {
      "text/plain": [
       "PCA(n_components=500)"
      ]
     },
     "execution_count": 24,
     "metadata": {},
     "output_type": "execute_result"
    }
   ],
   "source": [
    "pca.fit(train_x)"
   ]
  },
  {
   "cell_type": "code",
   "execution_count": 25,
   "id": "922bd5b6",
   "metadata": {},
   "outputs": [],
   "source": [
    "components=pca.transform(train_x)"
   ]
  },
  {
   "cell_type": "code",
   "execution_count": 26,
   "id": "4473bce6",
   "metadata": {},
   "outputs": [],
   "source": [
    "pcs_analysis=pca.explained_variance_ratio_"
   ]
  },
  {
   "cell_type": "code",
   "execution_count": 27,
   "id": "5be77487",
   "metadata": {
    "scrolled": true
   },
   "outputs": [],
   "source": [
    "components=pd.DataFrame(components)"
   ]
  },
  {
   "cell_type": "code",
   "execution_count": 28,
   "id": "e23ef9ed",
   "metadata": {
    "scrolled": true
   },
   "outputs": [
    {
     "data": {
      "text/plain": [
       "<AxesSubplot:>"
      ]
     },
     "execution_count": 28,
     "metadata": {},
     "output_type": "execute_result"
    },
    {
     "data": {
      "image/png": "[encoded data removed]",
      "text/plain": [
       "<Figure size 432x288 with 1 Axes>"
      ]
     },
     "metadata": {
      "needs_background": "light"
     },
     "output_type": "display_data"
    }
   ],
   "source": [
    "sns.lineplot(data=pcs_analysis)"
   ]
  },
  {
   "cell_type": "code",
   "execution_count": 29,
   "id": "0b1ce0cd",
   "metadata": {},
   "outputs": [],
   "source": [
    "cummi=np.cumsum(pcs_analysis)"
   ]
  },
  {
   "cell_type": "code",
   "execution_count": 30,
   "id": "c0a21cac",
   "metadata": {
    "scrolled": true
   },
   "outputs": [
    {
     "data": {
      "text/plain": [
       "[<matplotlib.lines.Line2D at 0x1a780146b80>]"
      ]
     },
     "execution_count": 30,
     "metadata": {},
     "output_type": "execute_result"
    },
    {
     "data": {
      "image/png": "[encoded data removed]",
      "text/plain": [
       "<Figure size 432x288 with 1 Axes>"
      ]
     },
     "metadata": {
      "needs_background": "light"
     },
     "output_type": "display_data"
    }
   ],
   "source": [
    "plt.plot(cummi)"
   ]
  },
  {
   "cell_type": "code",
   "execution_count": 31,
   "id": "d45e7c85",
   "metadata": {},
   "outputs": [],
   "source": [
    "pca = PCA(n_components=500)"
   ]
  },
  {
   "cell_type": "code",
   "execution_count": 32,
   "id": "77b6160e",
   "metadata": {
    "scrolled": true
   },
   "outputs": [
    {
     "data": {
      "text/plain": [
       "PCA(n_components=500)"
      ]
     },
     "execution_count": 32,
     "metadata": {},
     "output_type": "execute_result"
    }
   ],
   "source": [
    "pca.fit(test_x)"
   ]
  },
  {
   "cell_type": "code",
   "execution_count": 33,
   "id": "e23b8e39",
   "metadata": {},
   "outputs": [
    {
     "data": {
      "text/plain": [
       "PCA(n_components=500)"
      ]
     },
     "execution_count": 33,
     "metadata": {},
     "output_type": "execute_result"
    }
   ],
   "source": [
    "pca.fit(x)"
   ]
  },
  {
   "cell_type": "code",
   "execution_count": 34,
   "id": "19d94f25",
   "metadata": {},
   "outputs": [
    {
     "data": {
      "text/plain": [
       "PCA(n_components=500)"
      ]
     },
     "execution_count": 34,
     "metadata": {},
     "output_type": "execute_result"
    }
   ],
   "source": [
    "pca.fit(test)"
   ]
  },
  {
   "cell_type": "code",
   "execution_count": null,
   "id": "a7561c44",
   "metadata": {},
   "outputs": [],
   "source": []
  },
  {
   "cell_type": "code",
   "execution_count": 35,
   "id": "80de608f",
   "metadata": {},
   "outputs": [],
   "source": [
    "components1=pca.transform(test_x)"
   ]
  },
  {
   "cell_type": "code",
   "execution_count": 36,
   "id": "d57f6cbb",
   "metadata": {},
   "outputs": [],
   "source": [
    "res=pca.transform(x)"
   ]
  },
  {
   "cell_type": "code",
   "execution_count": 37,
   "id": "db92130f",
   "metadata": {},
   "outputs": [],
   "source": [
    "compo=pca.transform(test)"
   ]
  },
  {
   "cell_type": "code",
   "execution_count": 38,
   "id": "9c022d46",
   "metadata": {},
   "outputs": [],
   "source": [
    "pcs_analysis=pca.explained_variance_ratio_"
   ]
  },
  {
   "cell_type": "code",
   "execution_count": 39,
   "id": "deb0a492",
   "metadata": {
    "scrolled": true
   },
   "outputs": [
    {
     "data": {
      "text/plain": [
       "<AxesSubplot:>"
      ]
     },
     "execution_count": 39,
     "metadata": {},
     "output_type": "execute_result"
    },
    {
     "data": {
      "image/png": "[encoded data removed]",
      "text/plain": [
       "<Figure size 432x288 with 1 Axes>"
      ]
     },
     "metadata": {
      "needs_background": "light"
     },
     "output_type": "display_data"
    }
   ],
   "source": [
    "sns.lineplot(data=pcs_analysis)"
   ]
  },
  {
   "cell_type": "code",
   "execution_count": 40,
   "id": "aefe5d73",
   "metadata": {},
   "outputs": [],
   "source": [
    "components1=pd.DataFrame(components1)"
   ]
  },
  {
   "cell_type": "code",
   "execution_count": 41,
   "id": "20fdf328",
   "metadata": {},
   "outputs": [],
   "source": [
    "compo = pd.DataFrame(compo)"
   ]
  },
  {
   "cell_type": "code",
   "execution_count": 42,
   "id": "90a02a6f",
   "metadata": {},
   "outputs": [],
   "source": [
    "res=pd.DataFrame(res)"
   ]
  },
  {
   "cell_type": "code",
   "execution_count": 43,
   "id": "b016fc90",
   "metadata": {},
   "outputs": [],
   "source": [
    "cummi=np.cumsum(pcs_analysis)"
   ]
  },
  {
   "cell_type": "code",
   "execution_count": 44,
   "id": "30d2aa97",
   "metadata": {},
   "outputs": [],
   "source": [
    "scaler=MinMaxScaler()\n",
    "train_x=scaler.fit_transform(components)\n",
    "test_x=scaler.transform(components1)"
   ]
  },
  {
   "cell_type": "code",
   "execution_count": 45,
   "id": "b86fed30",
   "metadata": {
    "scrolled": true
   },
   "outputs": [
    {
     "data": {
      "text/plain": [
       "(2915, 500)"
      ]
     },
     "execution_count": 45,
     "metadata": {},
     "output_type": "execute_result"
    }
   ],
   "source": [
    "components1.shape"
   ]
  },
  {
   "cell_type": "code",
   "execution_count": 46,
   "id": "f7889d7a",
   "metadata": {
    "scrolled": true
   },
   "outputs": [
    {
     "data": {
      "text/plain": [
       "[<matplotlib.lines.Line2D at 0x1a78139ea90>]"
      ]
     },
     "execution_count": 46,
     "metadata": {},
     "output_type": "execute_result"
    },
    {
     "data": {
      "image/png": "[encoded data removed]",
      "text/plain": [
       "<Figure size 432x288 with 1 Axes>"
      ]
     },
     "metadata": {
      "needs_background": "light"
     },
     "output_type": "display_data"
    }
   ],
   "source": [
    "plt.plot(cummi)"
   ]
  },
  {
   "cell_type": "code",
   "execution_count": 47,
   "id": "8bc3d81e",
   "metadata": {},
   "outputs": [
    {
     "data": {
      "text/plain": [
       "LinearRegression()"
      ]
     },
     "execution_count": 47,
     "metadata": {},
     "output_type": "execute_result"
    }
   ],
   "source": [
    "modelLinear = LinearRegression()\n",
    "modelLinear.fit(components,train_y)"
   ]
  },
  {
   "cell_type": "code",
   "execution_count": 48,
   "id": "2bd83b99",
   "metadata": {},
   "outputs": [],
   "source": [
    "lineartrain = r2_score(train_y,modelLinear.predict(components))\n",
    "lineartest = r2_score(test_y,modelLinear.predict(components1))\n",
    "rmslineartrain = mean_squared_error(train_y, modelLinear.predict(components), squared=False)\n",
    "rmslineartest = mean_squared_error(test_y, modelLinear.predict(components1), squared=False)"
   ]
  },
  {
   "cell_type": "code",
   "execution_count": 49,
   "id": "9b28e9d9",
   "metadata": {},
   "outputs": [
    {
     "data": {
      "text/plain": [
       "DecisionTreeRegressor(random_state=42)"
      ]
     },
     "execution_count": 49,
     "metadata": {},
     "output_type": "execute_result"
    }
   ],
   "source": [
    "modeldtr = DecisionTreeRegressor(random_state=42)\n",
    "modeldtr.fit(components,train_y)"
   ]
  },
  {
   "cell_type": "code",
   "execution_count": 52,
   "id": "56271817",
   "metadata": {},
   "outputs": [],
   "source": [
    "dtrtrain = r2_score(train_y,modeldtr.predict(components))\n",
    "dtrtest = r2_score(test_y,modeldtr.predict(components1))\n",
    "rmsdtrtrain = mean_squared_error(train_y, modeldtr.predict(components), squared=False)\n",
    "rmsdtrtest = mean_squared_error(test_y, modeldtr.predict(components1), squared=False)"
   ]
  },
  {
   "cell_type": "code",
   "execution_count": null,
   "id": "55a36d53",
   "metadata": {},
   "outputs": [],
   "source": [
    "modelrfr = RandomForestRegressor(random_state=42)\n",
    "modelrfr.fit(components,train_y)"
   ]
  },
  {
   "cell_type": "code",
   "execution_count": null,
   "id": "a6181d48",
   "metadata": {},
   "outputs": [],
   "source": [
    "rfrtrain = r2_score(train_y,modelrfr.predict(components))\n",
    "rfrtest = r2_score(test_y,modelrfr.predict(components1))\n",
    "rmsrfrtrain = mean_squared_error(train_y, modelrfr.predict(components), squared=False)\n",
    "rmsrfrtest = mean_squared_error(test_y, modelrfr.predict(components1), squared=False)"
   ]
  },
  {
   "cell_type": "code",
   "execution_count": 45,
   "id": "8645b4c5",
   "metadata": {},
   "outputs": [
    {
     "data": {
      "text/plain": [
       "GradientBoostingRegressor(random_state=101)"
      ]
     },
     "execution_count": 45,
     "metadata": {},
     "output_type": "execute_result"
    }
   ],
   "source": [
    "modelgbr = GradientBoostingRegressor(random_state=101)\n",
    "modelgbr.fit(components,train_y)"
   ]
  },
  {
   "cell_type": "code",
   "execution_count": 47,
   "id": "5a88d224",
   "metadata": {},
   "outputs": [],
   "source": [
    "gbrtrain = r2_score(train_y,modelgbr.predict(components))\n",
    "gbrtest = r2_score(test_y,modelgbr.predict(components1))\n",
    "rmsgbrtrain = mean_squared_error(train_y, modelgbr.predict(components), squared=False)\n",
    "rmsgbrtest = mean_squared_error(test_y, modelgbr.predict(components1), squared=False)"
   ]
  },
  {
   "cell_type": "code",
   "execution_count": null,
   "id": "9cf0baca",
   "metadata": {},
   "outputs": [],
   "source": [
    "modelabr = AdaBoostRegressor(random_state=42)\n",
    "modelabr.fit(components,train_y)"
   ]
  },
  {
   "cell_type": "code",
   "execution_count": null,
   "id": "5b04536e",
   "metadata": {},
   "outputs": [],
   "source": [
    "abrtrain = r2_score(train_y,modelabr.predict(components))\n",
    "abrtest = r2_score(test_y,modelgbr.predict(components1))\n",
    "rmsabrtrain = mean_squared_error(train_y, modelabr.predict(components), squared=False)\n",
    "rmsabrtest = mean_squared_error(test_y, modelabr.predict(components1), squared=False)"
   ]
  },
  {
   "cell_type": "code",
   "execution_count": 64,
   "id": "613890e6",
   "metadata": {},
   "outputs": [
    {
     "data": {
      "text/plain": [
       "Ridge(random_state=108)"
      ]
     },
     "execution_count": 64,
     "metadata": {},
     "output_type": "execute_result"
    }
   ],
   "source": [
    "modelrdg = Ridge(random_state=108)\n",
    "modelrdg.fit(res,y)"
   ]
  },
  {
   "cell_type": "code",
   "execution_count": 65,
   "id": "fb2f39ee",
   "metadata": {},
   "outputs": [
    {
     "data": {
      "text/plain": [
       "(14574, 500)"
      ]
     },
     "execution_count": 65,
     "metadata": {},
     "output_type": "execute_result"
    }
   ],
   "source": [
    "res.shape"
   ]
  },
  {
   "cell_type": "code",
   "execution_count": 57,
   "id": "d2e9cc3b",
   "metadata": {},
   "outputs": [],
   "source": [
    "scaler=MinMaxScaler()\n",
    "compo=scaler.fit_transform(compo)"
   ]
  },
  {
   "cell_type": "code",
   "execution_count": 59,
   "id": "84917383",
   "metadata": {
    "scrolled": true
   },
   "outputs": [
    {
     "data": {
      "text/plain": [
       "(2143, 500)"
      ]
     },
     "execution_count": 59,
     "metadata": {},
     "output_type": "execute_result"
    }
   ],
   "source": [
    "compo.shape"
   ]
  },
  {
   "cell_type": "code",
   "execution_count": 66,
   "id": "cc14b7ad",
   "metadata": {},
   "outputs": [],
   "source": [
    "submission = pd.DataFrame({'Name':test_df['Name'],'Global sales': modelrdg.predict(compo)},columns=['Name','Global sales'])"
   ]
  },
  {
   "cell_type": "code",
   "execution_count": 67,
   "id": "fcdbf868",
   "metadata": {},
   "outputs": [],
   "source": [
    "submission.to_csv('C:/Users/Dell/OneDrive/Desktop/uni/New folder2.csv',index=False)"
   ]
  },
  {
   "cell_type": "code",
   "execution_count": null,
   "id": "cf339f1f",
   "metadata": {},
   "outputs": [],
   "source": []
  }
 ],
 "metadata": {
  "kernelspec": {
   "display_name": "Python 3 (ipykernel)",
   "language": "python",
   "name": "python3"
  },
  "language_info": {
   "codemirror_mode": {
    "name": "ipython",
    "version": 3
   },
   "file_extension": ".py",
   "mimetype": "text/x-python",
   "name": "python",
   "nbconvert_exporter": "python",
   "pygments_lexer": "ipython3",
   "version": "3.9.7"
  }
 },
 "nbformat": 4,
 "nbformat_minor": 5
}
